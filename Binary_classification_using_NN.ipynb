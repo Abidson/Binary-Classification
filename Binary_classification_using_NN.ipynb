{
  "metadata": {
    "kernelspec": {
      "display_name": "Python 3",
      "language": "python",
      "name": "python3"
    },
    "language_info": {
      "name": "python",
      "version": "3.10.12",
      "mimetype": "text/x-python",
      "codemirror_mode": {
        "name": "ipython",
        "version": 3
      },
      "pygments_lexer": "ipython3",
      "nbconvert_exporter": "python",
      "file_extension": ".py"
    },
    "kaggle": {
      "accelerator": "none",
      "dataSources": [
        {
          "sourceId": 65711,
          "databundleVersionId": 7405009,
          "sourceType": "competition"
        }
      ],
      "dockerImageVersionId": 30635,
      "isInternetEnabled": true,
      "language": "python",
      "sourceType": "notebook",
      "isGpuEnabled": false
    },
    "colab": {
      "name": "Binary classification using NN",
      "provenance": []
    }
  },
  "nbformat_minor": 0,
  "nbformat": 4,
  "cells": [
    {
      "source": [
        "\n",
        "# IMPORTANT: RUN THIS CELL IN ORDER TO IMPORT YOUR KAGGLE DATA SOURCES\n",
        "# TO THE CORRECT LOCATION (/kaggle/input) IN YOUR NOTEBOOK,\n",
        "# THEN FEEL FREE TO DELETE THIS CELL.\n",
        "# NOTE: THIS NOTEBOOK ENVIRONMENT DIFFERS FROM KAGGLE'S PYTHON\n",
        "# ENVIRONMENT SO THERE MAY BE MISSING LIBRARIES USED BY YOUR\n",
        "# NOTEBOOK.\n",
        "\n",
        "import os\n",
        "import sys\n",
        "from tempfile import NamedTemporaryFile\n",
        "from urllib.request import urlopen\n",
        "from urllib.parse import unquote, urlparse\n",
        "from urllib.error import HTTPError\n",
        "from zipfile import ZipFile\n",
        "import tarfile\n",
        "import shutil\n",
        "\n",
        "CHUNK_SIZE = 40960\n",
        "DATA_SOURCE_MAPPING = 'playground-series-s4e1:https%3A%2F%2Fstorage.googleapis.com%2Fkaggle-competitions-data%2Fkaggle-v2%2F65711%2F7405009%2Fbundle%2Farchive.zip%3FX-Goog-Algorithm%3DGOOG4-RSA-SHA256%26X-Goog-Credential%3Dgcp-kaggle-com%2540kaggle-161607.iam.gserviceaccount.com%252F20240216%252Fauto%252Fstorage%252Fgoog4_request%26X-Goog-Date%3D20240216T223535Z%26X-Goog-Expires%3D259200%26X-Goog-SignedHeaders%3Dhost%26X-Goog-Signature%3D9633853039fb9c2f19872653b40a99f6a87cb23a3aa000ff4de5238b09ba022ab770596e19cfc002fb17f3269802f2dc843cf479ee7f0d8a7939814317a18b0d6f60232d5372c9ddbfb0b813d6d5c3114ef0a367c9a3dd1feb9480250c3be71b679204fc2c2df442b3fc2d8fc18c77730f1a51d4bb599aaf314adf58f9202da248cc57358a2bd8dc74ee4d2a1ec15a3b0c5cf611c8a978816499881132d20f6edb9df67118bac79cbd6076463e991e2868e1096ebfb5716dbd72e8ccaa66511eea755774cf60fd3a54bda93807ae82a387ad9d5dff2d0c4887a832efd7fee26a7eeee932f333324d37c513283b3421a75286220d68e76b265a68b713eb37bde3'\n",
        "\n",
        "KAGGLE_INPUT_PATH='/kaggle/input'\n",
        "KAGGLE_WORKING_PATH='/kaggle/working'\n",
        "KAGGLE_SYMLINK='kaggle'\n",
        "\n",
        "!umount /kaggle/input/ 2> /dev/null\n",
        "shutil.rmtree('/kaggle/input', ignore_errors=True)\n",
        "os.makedirs(KAGGLE_INPUT_PATH, 0o777, exist_ok=True)\n",
        "os.makedirs(KAGGLE_WORKING_PATH, 0o777, exist_ok=True)\n",
        "\n",
        "try:\n",
        "  os.symlink(KAGGLE_INPUT_PATH, os.path.join(\"..\", 'input'), target_is_directory=True)\n",
        "except FileExistsError:\n",
        "  pass\n",
        "try:\n",
        "  os.symlink(KAGGLE_WORKING_PATH, os.path.join(\"..\", 'working'), target_is_directory=True)\n",
        "except FileExistsError:\n",
        "  pass\n",
        "\n",
        "for data_source_mapping in DATA_SOURCE_MAPPING.split(','):\n",
        "    directory, download_url_encoded = data_source_mapping.split(':')\n",
        "    download_url = unquote(download_url_encoded)\n",
        "    filename = urlparse(download_url).path\n",
        "    destination_path = os.path.join(KAGGLE_INPUT_PATH, directory)\n",
        "    try:\n",
        "        with urlopen(download_url) as fileres, NamedTemporaryFile() as tfile:\n",
        "            total_length = fileres.headers['content-length']\n",
        "            print(f'Downloading {directory}, {total_length} bytes compressed')\n",
        "            dl = 0\n",
        "            data = fileres.read(CHUNK_SIZE)\n",
        "            while len(data) > 0:\n",
        "                dl += len(data)\n",
        "                tfile.write(data)\n",
        "                done = int(50 * dl / int(total_length))\n",
        "                sys.stdout.write(f\"\\r[{'=' * done}{' ' * (50-done)}] {dl} bytes downloaded\")\n",
        "                sys.stdout.flush()\n",
        "                data = fileres.read(CHUNK_SIZE)\n",
        "            if filename.endswith('.zip'):\n",
        "              with ZipFile(tfile) as zfile:\n",
        "                zfile.extractall(destination_path)\n",
        "            else:\n",
        "              with tarfile.open(tfile.name) as tarfile:\n",
        "                tarfile.extractall(destination_path)\n",
        "            print(f'\\nDownloaded and uncompressed: {directory}')\n",
        "    except HTTPError as e:\n",
        "        print(f'Failed to load (likely expired) {download_url} to path {destination_path}')\n",
        "        continue\n",
        "    except OSError as e:\n",
        "        print(f'Failed to load {download_url} to path {destination_path}')\n",
        "        continue\n",
        "\n",
        "print('Data source import complete.')\n"
      ],
      "metadata": {
        "id": "w3tFjOv3D6LO",
        "outputId": "78662b11-61b9-4014-85fe-a0e46130767b",
        "colab": {
          "base_uri": "https://localhost:8080/"
        }
      },
      "cell_type": "code",
      "outputs": [
        {
          "output_type": "stream",
          "name": "stdout",
          "text": [
            "Downloading playground-series-s4e1, 7141098 bytes compressed\n",
            "[==================================================] 7141098 bytes downloaded\n",
            "Downloaded and uncompressed: playground-series-s4e1\n",
            "Data source import complete.\n"
          ]
        }
      ],
      "execution_count": 1
    },
    {
      "cell_type": "code",
      "source": [
        "import numpy as np\n",
        "import pandas as pd\n",
        "\n",
        "import matplotlib.pyplot as plt\n",
        "import seaborn as sns\n",
        "\n",
        "from xgboost import XGBClassifier\n",
        "\n",
        "from sklearn.model_selection import train_test_split\n",
        "from sklearn.model_selection import GridSearchCV\n",
        "\n",
        "\n",
        "from numpy import unique\n",
        "\n",
        "from imblearn.over_sampling import SMOTE\n",
        "\n",
        "from sklearn.preprocessing import LabelEncoder\n",
        "from sklearn.model_selection import train_test_split\n",
        "from sklearn.metrics import mean_squared_error\n",
        "from sklearn.linear_model import LogisticRegression\n",
        "from sklearn.ensemble import RandomForestClassifier\n",
        "from sklearn.metrics import accuracy_score, confusion_matrix, classification_report\n",
        "from sklearn.preprocessing import StandardScaler\n",
        "from sklearn.model_selection import ParameterGrid\n",
        "\n",
        "\n",
        "\n",
        "from tensorflow import zeros\n",
        "from tensorflow.data import Dataset\n",
        "from tensorflow.keras import Sequential, backend\n",
        "from tensorflow.keras.layers import Dense, Dropout, LeakyReLU, Input\n",
        "from tensorflow.keras.metrics import AUC\n",
        "from tensorflow.keras.callbacks import EarlyStopping\n",
        "from tensorflow.keras.optimizers import Adam, RMSprop, SGD\n",
        "from keras.layers import Dense, Activation, Reshape, Dropout, Input, Flatten, Concatenate\n",
        "\n",
        "\n",
        "import seaborn as sns\n",
        "from keras.utils import plot_model\n",
        "from xgboost import XGBClassifier\n",
        "from sklearn.metrics import roc_auc_score\n",
        "from sklearn.metrics import confusion_matrix\n",
        "\n",
        "\n",
        "\n",
        "\n",
        "import matplotlib.pyplot as plt\n",
        "from xgboost import XGBRegressor\n",
        "from sklearn.pipeline import Pipeline\n",
        "from keras.callbacks import EarlyStopping\n",
        "\n",
        "\n",
        "\n",
        "\n",
        "from sklearn.impute import SimpleImputer\n",
        "from keras.models import Sequential, Model\n",
        "from keras.layers import Embedding\n",
        "# from keras.layers.embeddings import Embedding\n",
        "\n",
        "\n",
        "from sklearn.compose import ColumnTransformer\n",
        "from sklearn.tree import DecisionTreeRegressor\n",
        "from sklearn.preprocessing import StandardScaler\n",
        "\n",
        "\n",
        "from sklearn.linear_model import LogisticRegression\n",
        "from sklearn.model_selection import train_test_split, GridSearchCV\n",
        "\n",
        "from sklearn.linear_model import LinearRegression,Lasso,Ridge,ElasticNet\n",
        "from sklearn.preprocessing import OneHotEncoder, MinMaxScaler, LabelEncoder, OrdinalEncoder\n",
        "\n",
        "from sklearn.ensemble import RandomForestRegressor, AdaBoostRegressor, GradientBoostingRegressor\n",
        "from keras.layers import Dense, Activation, Reshape, Dropout, Input, Flatten, Concatenate\n"
      ],
      "metadata": {
        "execution": {
          "iopub.status.busy": "2024-01-24T12:50:08.276691Z",
          "iopub.execute_input": "2024-01-24T12:50:08.277227Z",
          "iopub.status.idle": "2024-01-24T12:50:08.290745Z",
          "shell.execute_reply.started": "2024-01-24T12:50:08.277184Z",
          "shell.execute_reply": "2024-01-24T12:50:08.289261Z"
        },
        "trusted": true,
        "id": "EBgwQx0-D6Lf"
      },
      "execution_count": 2,
      "outputs": []
    },
    {
      "cell_type": "markdown",
      "source": [
        "## EDA"
      ],
      "metadata": {
        "id": "gYDtdH3XD6Li"
      }
    },
    {
      "cell_type": "code",
      "source": [
        "trainbanking = pd.read_csv('/kaggle/input/playground-series-s4e1/train.csv')\n",
        "trainbanking.head()"
      ],
      "metadata": {
        "execution": {
          "iopub.status.busy": "2024-01-24T12:50:14.198457Z",
          "iopub.execute_input": "2024-01-24T12:50:14.198981Z",
          "iopub.status.idle": "2024-01-24T12:50:14.521021Z",
          "shell.execute_reply.started": "2024-01-24T12:50:14.198939Z",
          "shell.execute_reply": "2024-01-24T12:50:14.519617Z"
        },
        "trusted": true,
        "id": "7jQ0pkBwD6Lp",
        "outputId": "8ff0cd87-c15f-4f25-81c0-4323eba88f2d",
        "colab": {
          "base_uri": "https://localhost:8080/",
          "height": 226
        }
      },
      "execution_count": 3,
      "outputs": [
        {
          "output_type": "execute_result",
          "data": {
            "text/plain": [
              "   id  CustomerId         Surname  CreditScore Geography Gender   Age  Tenure  \\\n",
              "0   0    15674932  Okwudilichukwu          668    France   Male  33.0       3   \n",
              "1   1    15749177   Okwudiliolisa          627    France   Male  33.0       1   \n",
              "2   2    15694510           Hsueh          678    France   Male  40.0      10   \n",
              "3   3    15741417             Kao          581    France   Male  34.0       2   \n",
              "4   4    15766172       Chiemenam          716     Spain   Male  33.0       5   \n",
              "\n",
              "     Balance  NumOfProducts  HasCrCard  IsActiveMember  EstimatedSalary  \\\n",
              "0       0.00              2        1.0             0.0        181449.97   \n",
              "1       0.00              2        1.0             1.0         49503.50   \n",
              "2       0.00              2        1.0             0.0        184866.69   \n",
              "3  148882.54              1        1.0             1.0         84560.88   \n",
              "4       0.00              2        1.0             1.0         15068.83   \n",
              "\n",
              "   Exited  \n",
              "0       0  \n",
              "1       0  \n",
              "2       0  \n",
              "3       0  \n",
              "4       0  "
            ],
            "text/html": [
              "\n",
              "  <div id=\"df-523db2a7-1e6a-4c4d-b106-a447b19e8285\" class=\"colab-df-container\">\n",
              "    <div>\n",
              "<style scoped>\n",
              "    .dataframe tbody tr th:only-of-type {\n",
              "        vertical-align: middle;\n",
              "    }\n",
              "\n",
              "    .dataframe tbody tr th {\n",
              "        vertical-align: top;\n",
              "    }\n",
              "\n",
              "    .dataframe thead th {\n",
              "        text-align: right;\n",
              "    }\n",
              "</style>\n",
              "<table border=\"1\" class=\"dataframe\">\n",
              "  <thead>\n",
              "    <tr style=\"text-align: right;\">\n",
              "      <th></th>\n",
              "      <th>id</th>\n",
              "      <th>CustomerId</th>\n",
              "      <th>Surname</th>\n",
              "      <th>CreditScore</th>\n",
              "      <th>Geography</th>\n",
              "      <th>Gender</th>\n",
              "      <th>Age</th>\n",
              "      <th>Tenure</th>\n",
              "      <th>Balance</th>\n",
              "      <th>NumOfProducts</th>\n",
              "      <th>HasCrCard</th>\n",
              "      <th>IsActiveMember</th>\n",
              "      <th>EstimatedSalary</th>\n",
              "      <th>Exited</th>\n",
              "    </tr>\n",
              "  </thead>\n",
              "  <tbody>\n",
              "    <tr>\n",
              "      <th>0</th>\n",
              "      <td>0</td>\n",
              "      <td>15674932</td>\n",
              "      <td>Okwudilichukwu</td>\n",
              "      <td>668</td>\n",
              "      <td>France</td>\n",
              "      <td>Male</td>\n",
              "      <td>33.0</td>\n",
              "      <td>3</td>\n",
              "      <td>0.00</td>\n",
              "      <td>2</td>\n",
              "      <td>1.0</td>\n",
              "      <td>0.0</td>\n",
              "      <td>181449.97</td>\n",
              "      <td>0</td>\n",
              "    </tr>\n",
              "    <tr>\n",
              "      <th>1</th>\n",
              "      <td>1</td>\n",
              "      <td>15749177</td>\n",
              "      <td>Okwudiliolisa</td>\n",
              "      <td>627</td>\n",
              "      <td>France</td>\n",
              "      <td>Male</td>\n",
              "      <td>33.0</td>\n",
              "      <td>1</td>\n",
              "      <td>0.00</td>\n",
              "      <td>2</td>\n",
              "      <td>1.0</td>\n",
              "      <td>1.0</td>\n",
              "      <td>49503.50</td>\n",
              "      <td>0</td>\n",
              "    </tr>\n",
              "    <tr>\n",
              "      <th>2</th>\n",
              "      <td>2</td>\n",
              "      <td>15694510</td>\n",
              "      <td>Hsueh</td>\n",
              "      <td>678</td>\n",
              "      <td>France</td>\n",
              "      <td>Male</td>\n",
              "      <td>40.0</td>\n",
              "      <td>10</td>\n",
              "      <td>0.00</td>\n",
              "      <td>2</td>\n",
              "      <td>1.0</td>\n",
              "      <td>0.0</td>\n",
              "      <td>184866.69</td>\n",
              "      <td>0</td>\n",
              "    </tr>\n",
              "    <tr>\n",
              "      <th>3</th>\n",
              "      <td>3</td>\n",
              "      <td>15741417</td>\n",
              "      <td>Kao</td>\n",
              "      <td>581</td>\n",
              "      <td>France</td>\n",
              "      <td>Male</td>\n",
              "      <td>34.0</td>\n",
              "      <td>2</td>\n",
              "      <td>148882.54</td>\n",
              "      <td>1</td>\n",
              "      <td>1.0</td>\n",
              "      <td>1.0</td>\n",
              "      <td>84560.88</td>\n",
              "      <td>0</td>\n",
              "    </tr>\n",
              "    <tr>\n",
              "      <th>4</th>\n",
              "      <td>4</td>\n",
              "      <td>15766172</td>\n",
              "      <td>Chiemenam</td>\n",
              "      <td>716</td>\n",
              "      <td>Spain</td>\n",
              "      <td>Male</td>\n",
              "      <td>33.0</td>\n",
              "      <td>5</td>\n",
              "      <td>0.00</td>\n",
              "      <td>2</td>\n",
              "      <td>1.0</td>\n",
              "      <td>1.0</td>\n",
              "      <td>15068.83</td>\n",
              "      <td>0</td>\n",
              "    </tr>\n",
              "  </tbody>\n",
              "</table>\n",
              "</div>\n",
              "    <div class=\"colab-df-buttons\">\n",
              "\n",
              "  <div class=\"colab-df-container\">\n",
              "    <button class=\"colab-df-convert\" onclick=\"convertToInteractive('df-523db2a7-1e6a-4c4d-b106-a447b19e8285')\"\n",
              "            title=\"Convert this dataframe to an interactive table.\"\n",
              "            style=\"display:none;\">\n",
              "\n",
              "  <svg xmlns=\"http://www.w3.org/2000/svg\" height=\"24px\" viewBox=\"0 -960 960 960\">\n",
              "    <path d=\"M120-120v-720h720v720H120Zm60-500h600v-160H180v160Zm220 220h160v-160H400v160Zm0 220h160v-160H400v160ZM180-400h160v-160H180v160Zm440 0h160v-160H620v160ZM180-180h160v-160H180v160Zm440 0h160v-160H620v160Z\"/>\n",
              "  </svg>\n",
              "    </button>\n",
              "\n",
              "  <style>\n",
              "    .colab-df-container {\n",
              "      display:flex;\n",
              "      gap: 12px;\n",
              "    }\n",
              "\n",
              "    .colab-df-convert {\n",
              "      background-color: #E8F0FE;\n",
              "      border: none;\n",
              "      border-radius: 50%;\n",
              "      cursor: pointer;\n",
              "      display: none;\n",
              "      fill: #1967D2;\n",
              "      height: 32px;\n",
              "      padding: 0 0 0 0;\n",
              "      width: 32px;\n",
              "    }\n",
              "\n",
              "    .colab-df-convert:hover {\n",
              "      background-color: #E2EBFA;\n",
              "      box-shadow: 0px 1px 2px rgba(60, 64, 67, 0.3), 0px 1px 3px 1px rgba(60, 64, 67, 0.15);\n",
              "      fill: #174EA6;\n",
              "    }\n",
              "\n",
              "    .colab-df-buttons div {\n",
              "      margin-bottom: 4px;\n",
              "    }\n",
              "\n",
              "    [theme=dark] .colab-df-convert {\n",
              "      background-color: #3B4455;\n",
              "      fill: #D2E3FC;\n",
              "    }\n",
              "\n",
              "    [theme=dark] .colab-df-convert:hover {\n",
              "      background-color: #434B5C;\n",
              "      box-shadow: 0px 1px 3px 1px rgba(0, 0, 0, 0.15);\n",
              "      filter: drop-shadow(0px 1px 2px rgba(0, 0, 0, 0.3));\n",
              "      fill: #FFFFFF;\n",
              "    }\n",
              "  </style>\n",
              "\n",
              "    <script>\n",
              "      const buttonEl =\n",
              "        document.querySelector('#df-523db2a7-1e6a-4c4d-b106-a447b19e8285 button.colab-df-convert');\n",
              "      buttonEl.style.display =\n",
              "        google.colab.kernel.accessAllowed ? 'block' : 'none';\n",
              "\n",
              "      async function convertToInteractive(key) {\n",
              "        const element = document.querySelector('#df-523db2a7-1e6a-4c4d-b106-a447b19e8285');\n",
              "        const dataTable =\n",
              "          await google.colab.kernel.invokeFunction('convertToInteractive',\n",
              "                                                    [key], {});\n",
              "        if (!dataTable) return;\n",
              "\n",
              "        const docLinkHtml = 'Like what you see? Visit the ' +\n",
              "          '<a target=\"_blank\" href=https://colab.research.google.com/notebooks/data_table.ipynb>data table notebook</a>'\n",
              "          + ' to learn more about interactive tables.';\n",
              "        element.innerHTML = '';\n",
              "        dataTable['output_type'] = 'display_data';\n",
              "        await google.colab.output.renderOutput(dataTable, element);\n",
              "        const docLink = document.createElement('div');\n",
              "        docLink.innerHTML = docLinkHtml;\n",
              "        element.appendChild(docLink);\n",
              "      }\n",
              "    </script>\n",
              "  </div>\n",
              "\n",
              "\n",
              "<div id=\"df-3f4899b7-6fc6-4471-8a37-96ddb9b61e39\">\n",
              "  <button class=\"colab-df-quickchart\" onclick=\"quickchart('df-3f4899b7-6fc6-4471-8a37-96ddb9b61e39')\"\n",
              "            title=\"Suggest charts\"\n",
              "            style=\"display:none;\">\n",
              "\n",
              "<svg xmlns=\"http://www.w3.org/2000/svg\" height=\"24px\"viewBox=\"0 0 24 24\"\n",
              "     width=\"24px\">\n",
              "    <g>\n",
              "        <path d=\"M19 3H5c-1.1 0-2 .9-2 2v14c0 1.1.9 2 2 2h14c1.1 0 2-.9 2-2V5c0-1.1-.9-2-2-2zM9 17H7v-7h2v7zm4 0h-2V7h2v10zm4 0h-2v-4h2v4z\"/>\n",
              "    </g>\n",
              "</svg>\n",
              "  </button>\n",
              "\n",
              "<style>\n",
              "  .colab-df-quickchart {\n",
              "      --bg-color: #E8F0FE;\n",
              "      --fill-color: #1967D2;\n",
              "      --hover-bg-color: #E2EBFA;\n",
              "      --hover-fill-color: #174EA6;\n",
              "      --disabled-fill-color: #AAA;\n",
              "      --disabled-bg-color: #DDD;\n",
              "  }\n",
              "\n",
              "  [theme=dark] .colab-df-quickchart {\n",
              "      --bg-color: #3B4455;\n",
              "      --fill-color: #D2E3FC;\n",
              "      --hover-bg-color: #434B5C;\n",
              "      --hover-fill-color: #FFFFFF;\n",
              "      --disabled-bg-color: #3B4455;\n",
              "      --disabled-fill-color: #666;\n",
              "  }\n",
              "\n",
              "  .colab-df-quickchart {\n",
              "    background-color: var(--bg-color);\n",
              "    border: none;\n",
              "    border-radius: 50%;\n",
              "    cursor: pointer;\n",
              "    display: none;\n",
              "    fill: var(--fill-color);\n",
              "    height: 32px;\n",
              "    padding: 0;\n",
              "    width: 32px;\n",
              "  }\n",
              "\n",
              "  .colab-df-quickchart:hover {\n",
              "    background-color: var(--hover-bg-color);\n",
              "    box-shadow: 0 1px 2px rgba(60, 64, 67, 0.3), 0 1px 3px 1px rgba(60, 64, 67, 0.15);\n",
              "    fill: var(--button-hover-fill-color);\n",
              "  }\n",
              "\n",
              "  .colab-df-quickchart-complete:disabled,\n",
              "  .colab-df-quickchart-complete:disabled:hover {\n",
              "    background-color: var(--disabled-bg-color);\n",
              "    fill: var(--disabled-fill-color);\n",
              "    box-shadow: none;\n",
              "  }\n",
              "\n",
              "  .colab-df-spinner {\n",
              "    border: 2px solid var(--fill-color);\n",
              "    border-color: transparent;\n",
              "    border-bottom-color: var(--fill-color);\n",
              "    animation:\n",
              "      spin 1s steps(1) infinite;\n",
              "  }\n",
              "\n",
              "  @keyframes spin {\n",
              "    0% {\n",
              "      border-color: transparent;\n",
              "      border-bottom-color: var(--fill-color);\n",
              "      border-left-color: var(--fill-color);\n",
              "    }\n",
              "    20% {\n",
              "      border-color: transparent;\n",
              "      border-left-color: var(--fill-color);\n",
              "      border-top-color: var(--fill-color);\n",
              "    }\n",
              "    30% {\n",
              "      border-color: transparent;\n",
              "      border-left-color: var(--fill-color);\n",
              "      border-top-color: var(--fill-color);\n",
              "      border-right-color: var(--fill-color);\n",
              "    }\n",
              "    40% {\n",
              "      border-color: transparent;\n",
              "      border-right-color: var(--fill-color);\n",
              "      border-top-color: var(--fill-color);\n",
              "    }\n",
              "    60% {\n",
              "      border-color: transparent;\n",
              "      border-right-color: var(--fill-color);\n",
              "    }\n",
              "    80% {\n",
              "      border-color: transparent;\n",
              "      border-right-color: var(--fill-color);\n",
              "      border-bottom-color: var(--fill-color);\n",
              "    }\n",
              "    90% {\n",
              "      border-color: transparent;\n",
              "      border-bottom-color: var(--fill-color);\n",
              "    }\n",
              "  }\n",
              "</style>\n",
              "\n",
              "  <script>\n",
              "    async function quickchart(key) {\n",
              "      const quickchartButtonEl =\n",
              "        document.querySelector('#' + key + ' button');\n",
              "      quickchartButtonEl.disabled = true;  // To prevent multiple clicks.\n",
              "      quickchartButtonEl.classList.add('colab-df-spinner');\n",
              "      try {\n",
              "        const charts = await google.colab.kernel.invokeFunction(\n",
              "            'suggestCharts', [key], {});\n",
              "      } catch (error) {\n",
              "        console.error('Error during call to suggestCharts:', error);\n",
              "      }\n",
              "      quickchartButtonEl.classList.remove('colab-df-spinner');\n",
              "      quickchartButtonEl.classList.add('colab-df-quickchart-complete');\n",
              "    }\n",
              "    (() => {\n",
              "      let quickchartButtonEl =\n",
              "        document.querySelector('#df-3f4899b7-6fc6-4471-8a37-96ddb9b61e39 button');\n",
              "      quickchartButtonEl.style.display =\n",
              "        google.colab.kernel.accessAllowed ? 'block' : 'none';\n",
              "    })();\n",
              "  </script>\n",
              "</div>\n",
              "\n",
              "    </div>\n",
              "  </div>\n"
            ],
            "application/vnd.google.colaboratory.intrinsic+json": {
              "type": "dataframe",
              "variable_name": "trainbanking"
            }
          },
          "metadata": {},
          "execution_count": 3
        }
      ]
    },
    {
      "cell_type": "code",
      "source": [
        "trainbanking.shape"
      ],
      "metadata": {
        "execution": {
          "iopub.status.busy": "2024-01-24T12:50:19.33709Z",
          "iopub.execute_input": "2024-01-24T12:50:19.338594Z",
          "iopub.status.idle": "2024-01-24T12:50:19.348792Z",
          "shell.execute_reply.started": "2024-01-24T12:50:19.338511Z",
          "shell.execute_reply": "2024-01-24T12:50:19.346624Z"
        },
        "trusted": true,
        "id": "tETQR9QlD6Lr",
        "outputId": "fe025623-2dd3-4e31-e47f-8c2f5e1511d7",
        "colab": {
          "base_uri": "https://localhost:8080/"
        }
      },
      "execution_count": 4,
      "outputs": [
        {
          "output_type": "execute_result",
          "data": {
            "text/plain": [
              "(165034, 14)"
            ]
          },
          "metadata": {},
          "execution_count": 4
        }
      ]
    },
    {
      "cell_type": "code",
      "source": [
        "testbanking = pd.read_csv(r'/kaggle/input/playground-series-s4e1/test.csv')\n",
        "testbanking.head()\n"
      ],
      "metadata": {
        "execution": {
          "iopub.status.busy": "2024-01-24T12:50:22.429865Z",
          "iopub.execute_input": "2024-01-24T12:50:22.430327Z",
          "iopub.status.idle": "2024-01-24T12:50:22.642688Z",
          "shell.execute_reply.started": "2024-01-24T12:50:22.430293Z",
          "shell.execute_reply": "2024-01-24T12:50:22.641326Z"
        },
        "trusted": true,
        "id": "9mlJ9wUWD6Ls",
        "outputId": "65406f8f-0cf3-4cc1-be52-0c680a5e46c4",
        "colab": {
          "base_uri": "https://localhost:8080/",
          "height": 226
        }
      },
      "execution_count": 5,
      "outputs": [
        {
          "output_type": "execute_result",
          "data": {
            "text/plain": [
              "       id  CustomerId    Surname  CreditScore Geography  Gender   Age  Tenure  \\\n",
              "0  165034    15773898   Lucchese          586    France  Female  23.0       2   \n",
              "1  165035    15782418       Nott          683    France  Female  46.0       2   \n",
              "2  165036    15807120         K?          656    France  Female  34.0       7   \n",
              "3  165037    15808905  O'Donnell          681    France    Male  36.0       8   \n",
              "4  165038    15607314    Higgins          752   Germany    Male  38.0      10   \n",
              "\n",
              "     Balance  NumOfProducts  HasCrCard  IsActiveMember  EstimatedSalary  \n",
              "0       0.00              2        0.0             1.0        160976.75  \n",
              "1       0.00              1        1.0             0.0         72549.27  \n",
              "2       0.00              2        1.0             0.0        138882.09  \n",
              "3       0.00              1        1.0             0.0        113931.57  \n",
              "4  121263.62              1        1.0             0.0        139431.00  "
            ],
            "text/html": [
              "\n",
              "  <div id=\"df-b33dced3-5ebd-4822-918c-cb57d218199d\" class=\"colab-df-container\">\n",
              "    <div>\n",
              "<style scoped>\n",
              "    .dataframe tbody tr th:only-of-type {\n",
              "        vertical-align: middle;\n",
              "    }\n",
              "\n",
              "    .dataframe tbody tr th {\n",
              "        vertical-align: top;\n",
              "    }\n",
              "\n",
              "    .dataframe thead th {\n",
              "        text-align: right;\n",
              "    }\n",
              "</style>\n",
              "<table border=\"1\" class=\"dataframe\">\n",
              "  <thead>\n",
              "    <tr style=\"text-align: right;\">\n",
              "      <th></th>\n",
              "      <th>id</th>\n",
              "      <th>CustomerId</th>\n",
              "      <th>Surname</th>\n",
              "      <th>CreditScore</th>\n",
              "      <th>Geography</th>\n",
              "      <th>Gender</th>\n",
              "      <th>Age</th>\n",
              "      <th>Tenure</th>\n",
              "      <th>Balance</th>\n",
              "      <th>NumOfProducts</th>\n",
              "      <th>HasCrCard</th>\n",
              "      <th>IsActiveMember</th>\n",
              "      <th>EstimatedSalary</th>\n",
              "    </tr>\n",
              "  </thead>\n",
              "  <tbody>\n",
              "    <tr>\n",
              "      <th>0</th>\n",
              "      <td>165034</td>\n",
              "      <td>15773898</td>\n",
              "      <td>Lucchese</td>\n",
              "      <td>586</td>\n",
              "      <td>France</td>\n",
              "      <td>Female</td>\n",
              "      <td>23.0</td>\n",
              "      <td>2</td>\n",
              "      <td>0.00</td>\n",
              "      <td>2</td>\n",
              "      <td>0.0</td>\n",
              "      <td>1.0</td>\n",
              "      <td>160976.75</td>\n",
              "    </tr>\n",
              "    <tr>\n",
              "      <th>1</th>\n",
              "      <td>165035</td>\n",
              "      <td>15782418</td>\n",
              "      <td>Nott</td>\n",
              "      <td>683</td>\n",
              "      <td>France</td>\n",
              "      <td>Female</td>\n",
              "      <td>46.0</td>\n",
              "      <td>2</td>\n",
              "      <td>0.00</td>\n",
              "      <td>1</td>\n",
              "      <td>1.0</td>\n",
              "      <td>0.0</td>\n",
              "      <td>72549.27</td>\n",
              "    </tr>\n",
              "    <tr>\n",
              "      <th>2</th>\n",
              "      <td>165036</td>\n",
              "      <td>15807120</td>\n",
              "      <td>K?</td>\n",
              "      <td>656</td>\n",
              "      <td>France</td>\n",
              "      <td>Female</td>\n",
              "      <td>34.0</td>\n",
              "      <td>7</td>\n",
              "      <td>0.00</td>\n",
              "      <td>2</td>\n",
              "      <td>1.0</td>\n",
              "      <td>0.0</td>\n",
              "      <td>138882.09</td>\n",
              "    </tr>\n",
              "    <tr>\n",
              "      <th>3</th>\n",
              "      <td>165037</td>\n",
              "      <td>15808905</td>\n",
              "      <td>O'Donnell</td>\n",
              "      <td>681</td>\n",
              "      <td>France</td>\n",
              "      <td>Male</td>\n",
              "      <td>36.0</td>\n",
              "      <td>8</td>\n",
              "      <td>0.00</td>\n",
              "      <td>1</td>\n",
              "      <td>1.0</td>\n",
              "      <td>0.0</td>\n",
              "      <td>113931.57</td>\n",
              "    </tr>\n",
              "    <tr>\n",
              "      <th>4</th>\n",
              "      <td>165038</td>\n",
              "      <td>15607314</td>\n",
              "      <td>Higgins</td>\n",
              "      <td>752</td>\n",
              "      <td>Germany</td>\n",
              "      <td>Male</td>\n",
              "      <td>38.0</td>\n",
              "      <td>10</td>\n",
              "      <td>121263.62</td>\n",
              "      <td>1</td>\n",
              "      <td>1.0</td>\n",
              "      <td>0.0</td>\n",
              "      <td>139431.00</td>\n",
              "    </tr>\n",
              "  </tbody>\n",
              "</table>\n",
              "</div>\n",
              "    <div class=\"colab-df-buttons\">\n",
              "\n",
              "  <div class=\"colab-df-container\">\n",
              "    <button class=\"colab-df-convert\" onclick=\"convertToInteractive('df-b33dced3-5ebd-4822-918c-cb57d218199d')\"\n",
              "            title=\"Convert this dataframe to an interactive table.\"\n",
              "            style=\"display:none;\">\n",
              "\n",
              "  <svg xmlns=\"http://www.w3.org/2000/svg\" height=\"24px\" viewBox=\"0 -960 960 960\">\n",
              "    <path d=\"M120-120v-720h720v720H120Zm60-500h600v-160H180v160Zm220 220h160v-160H400v160Zm0 220h160v-160H400v160ZM180-400h160v-160H180v160Zm440 0h160v-160H620v160ZM180-180h160v-160H180v160Zm440 0h160v-160H620v160Z\"/>\n",
              "  </svg>\n",
              "    </button>\n",
              "\n",
              "  <style>\n",
              "    .colab-df-container {\n",
              "      display:flex;\n",
              "      gap: 12px;\n",
              "    }\n",
              "\n",
              "    .colab-df-convert {\n",
              "      background-color: #E8F0FE;\n",
              "      border: none;\n",
              "      border-radius: 50%;\n",
              "      cursor: pointer;\n",
              "      display: none;\n",
              "      fill: #1967D2;\n",
              "      height: 32px;\n",
              "      padding: 0 0 0 0;\n",
              "      width: 32px;\n",
              "    }\n",
              "\n",
              "    .colab-df-convert:hover {\n",
              "      background-color: #E2EBFA;\n",
              "      box-shadow: 0px 1px 2px rgba(60, 64, 67, 0.3), 0px 1px 3px 1px rgba(60, 64, 67, 0.15);\n",
              "      fill: #174EA6;\n",
              "    }\n",
              "\n",
              "    .colab-df-buttons div {\n",
              "      margin-bottom: 4px;\n",
              "    }\n",
              "\n",
              "    [theme=dark] .colab-df-convert {\n",
              "      background-color: #3B4455;\n",
              "      fill: #D2E3FC;\n",
              "    }\n",
              "\n",
              "    [theme=dark] .colab-df-convert:hover {\n",
              "      background-color: #434B5C;\n",
              "      box-shadow: 0px 1px 3px 1px rgba(0, 0, 0, 0.15);\n",
              "      filter: drop-shadow(0px 1px 2px rgba(0, 0, 0, 0.3));\n",
              "      fill: #FFFFFF;\n",
              "    }\n",
              "  </style>\n",
              "\n",
              "    <script>\n",
              "      const buttonEl =\n",
              "        document.querySelector('#df-b33dced3-5ebd-4822-918c-cb57d218199d button.colab-df-convert');\n",
              "      buttonEl.style.display =\n",
              "        google.colab.kernel.accessAllowed ? 'block' : 'none';\n",
              "\n",
              "      async function convertToInteractive(key) {\n",
              "        const element = document.querySelector('#df-b33dced3-5ebd-4822-918c-cb57d218199d');\n",
              "        const dataTable =\n",
              "          await google.colab.kernel.invokeFunction('convertToInteractive',\n",
              "                                                    [key], {});\n",
              "        if (!dataTable) return;\n",
              "\n",
              "        const docLinkHtml = 'Like what you see? Visit the ' +\n",
              "          '<a target=\"_blank\" href=https://colab.research.google.com/notebooks/data_table.ipynb>data table notebook</a>'\n",
              "          + ' to learn more about interactive tables.';\n",
              "        element.innerHTML = '';\n",
              "        dataTable['output_type'] = 'display_data';\n",
              "        await google.colab.output.renderOutput(dataTable, element);\n",
              "        const docLink = document.createElement('div');\n",
              "        docLink.innerHTML = docLinkHtml;\n",
              "        element.appendChild(docLink);\n",
              "      }\n",
              "    </script>\n",
              "  </div>\n",
              "\n",
              "\n",
              "<div id=\"df-5360b66f-7a83-424f-a614-05f5c854c467\">\n",
              "  <button class=\"colab-df-quickchart\" onclick=\"quickchart('df-5360b66f-7a83-424f-a614-05f5c854c467')\"\n",
              "            title=\"Suggest charts\"\n",
              "            style=\"display:none;\">\n",
              "\n",
              "<svg xmlns=\"http://www.w3.org/2000/svg\" height=\"24px\"viewBox=\"0 0 24 24\"\n",
              "     width=\"24px\">\n",
              "    <g>\n",
              "        <path d=\"M19 3H5c-1.1 0-2 .9-2 2v14c0 1.1.9 2 2 2h14c1.1 0 2-.9 2-2V5c0-1.1-.9-2-2-2zM9 17H7v-7h2v7zm4 0h-2V7h2v10zm4 0h-2v-4h2v4z\"/>\n",
              "    </g>\n",
              "</svg>\n",
              "  </button>\n",
              "\n",
              "<style>\n",
              "  .colab-df-quickchart {\n",
              "      --bg-color: #E8F0FE;\n",
              "      --fill-color: #1967D2;\n",
              "      --hover-bg-color: #E2EBFA;\n",
              "      --hover-fill-color: #174EA6;\n",
              "      --disabled-fill-color: #AAA;\n",
              "      --disabled-bg-color: #DDD;\n",
              "  }\n",
              "\n",
              "  [theme=dark] .colab-df-quickchart {\n",
              "      --bg-color: #3B4455;\n",
              "      --fill-color: #D2E3FC;\n",
              "      --hover-bg-color: #434B5C;\n",
              "      --hover-fill-color: #FFFFFF;\n",
              "      --disabled-bg-color: #3B4455;\n",
              "      --disabled-fill-color: #666;\n",
              "  }\n",
              "\n",
              "  .colab-df-quickchart {\n",
              "    background-color: var(--bg-color);\n",
              "    border: none;\n",
              "    border-radius: 50%;\n",
              "    cursor: pointer;\n",
              "    display: none;\n",
              "    fill: var(--fill-color);\n",
              "    height: 32px;\n",
              "    padding: 0;\n",
              "    width: 32px;\n",
              "  }\n",
              "\n",
              "  .colab-df-quickchart:hover {\n",
              "    background-color: var(--hover-bg-color);\n",
              "    box-shadow: 0 1px 2px rgba(60, 64, 67, 0.3), 0 1px 3px 1px rgba(60, 64, 67, 0.15);\n",
              "    fill: var(--button-hover-fill-color);\n",
              "  }\n",
              "\n",
              "  .colab-df-quickchart-complete:disabled,\n",
              "  .colab-df-quickchart-complete:disabled:hover {\n",
              "    background-color: var(--disabled-bg-color);\n",
              "    fill: var(--disabled-fill-color);\n",
              "    box-shadow: none;\n",
              "  }\n",
              "\n",
              "  .colab-df-spinner {\n",
              "    border: 2px solid var(--fill-color);\n",
              "    border-color: transparent;\n",
              "    border-bottom-color: var(--fill-color);\n",
              "    animation:\n",
              "      spin 1s steps(1) infinite;\n",
              "  }\n",
              "\n",
              "  @keyframes spin {\n",
              "    0% {\n",
              "      border-color: transparent;\n",
              "      border-bottom-color: var(--fill-color);\n",
              "      border-left-color: var(--fill-color);\n",
              "    }\n",
              "    20% {\n",
              "      border-color: transparent;\n",
              "      border-left-color: var(--fill-color);\n",
              "      border-top-color: var(--fill-color);\n",
              "    }\n",
              "    30% {\n",
              "      border-color: transparent;\n",
              "      border-left-color: var(--fill-color);\n",
              "      border-top-color: var(--fill-color);\n",
              "      border-right-color: var(--fill-color);\n",
              "    }\n",
              "    40% {\n",
              "      border-color: transparent;\n",
              "      border-right-color: var(--fill-color);\n",
              "      border-top-color: var(--fill-color);\n",
              "    }\n",
              "    60% {\n",
              "      border-color: transparent;\n",
              "      border-right-color: var(--fill-color);\n",
              "    }\n",
              "    80% {\n",
              "      border-color: transparent;\n",
              "      border-right-color: var(--fill-color);\n",
              "      border-bottom-color: var(--fill-color);\n",
              "    }\n",
              "    90% {\n",
              "      border-color: transparent;\n",
              "      border-bottom-color: var(--fill-color);\n",
              "    }\n",
              "  }\n",
              "</style>\n",
              "\n",
              "  <script>\n",
              "    async function quickchart(key) {\n",
              "      const quickchartButtonEl =\n",
              "        document.querySelector('#' + key + ' button');\n",
              "      quickchartButtonEl.disabled = true;  // To prevent multiple clicks.\n",
              "      quickchartButtonEl.classList.add('colab-df-spinner');\n",
              "      try {\n",
              "        const charts = await google.colab.kernel.invokeFunction(\n",
              "            'suggestCharts', [key], {});\n",
              "      } catch (error) {\n",
              "        console.error('Error during call to suggestCharts:', error);\n",
              "      }\n",
              "      quickchartButtonEl.classList.remove('colab-df-spinner');\n",
              "      quickchartButtonEl.classList.add('colab-df-quickchart-complete');\n",
              "    }\n",
              "    (() => {\n",
              "      let quickchartButtonEl =\n",
              "        document.querySelector('#df-5360b66f-7a83-424f-a614-05f5c854c467 button');\n",
              "      quickchartButtonEl.style.display =\n",
              "        google.colab.kernel.accessAllowed ? 'block' : 'none';\n",
              "    })();\n",
              "  </script>\n",
              "</div>\n",
              "\n",
              "    </div>\n",
              "  </div>\n"
            ],
            "application/vnd.google.colaboratory.intrinsic+json": {
              "type": "dataframe",
              "variable_name": "testbanking"
            }
          },
          "metadata": {},
          "execution_count": 5
        }
      ]
    },
    {
      "cell_type": "code",
      "source": [
        "testbanking.shape"
      ],
      "metadata": {
        "execution": {
          "iopub.status.busy": "2024-01-24T12:50:27.821063Z",
          "iopub.execute_input": "2024-01-24T12:50:27.821518Z",
          "iopub.status.idle": "2024-01-24T12:50:27.829097Z",
          "shell.execute_reply.started": "2024-01-24T12:50:27.821482Z",
          "shell.execute_reply": "2024-01-24T12:50:27.828054Z"
        },
        "trusted": true,
        "id": "wFNhR9__D6Lt",
        "outputId": "effa20ef-c26b-4506-e9af-eced29a4a2ef",
        "colab": {
          "base_uri": "https://localhost:8080/"
        }
      },
      "execution_count": 6,
      "outputs": [
        {
          "output_type": "execute_result",
          "data": {
            "text/plain": [
              "(110023, 13)"
            ]
          },
          "metadata": {},
          "execution_count": 6
        }
      ]
    },
    {
      "cell_type": "code",
      "source": [
        "trainbanking.nunique()"
      ],
      "metadata": {
        "execution": {
          "iopub.status.busy": "2024-01-24T12:50:31.636855Z",
          "iopub.execute_input": "2024-01-24T12:50:31.637334Z",
          "iopub.status.idle": "2024-01-24T12:50:31.723009Z",
          "shell.execute_reply.started": "2024-01-24T12:50:31.637292Z",
          "shell.execute_reply": "2024-01-24T12:50:31.721867Z"
        },
        "trusted": true,
        "id": "fgFRqRccD6Lv",
        "outputId": "efe1e064-462d-477e-c2d6-2b4d3b2bf742",
        "colab": {
          "base_uri": "https://localhost:8080/"
        }
      },
      "execution_count": 7,
      "outputs": [
        {
          "output_type": "execute_result",
          "data": {
            "text/plain": [
              "id                 165034\n",
              "CustomerId          23221\n",
              "Surname              2797\n",
              "CreditScore           457\n",
              "Geography               3\n",
              "Gender                  2\n",
              "Age                    71\n",
              "Tenure                 11\n",
              "Balance             30075\n",
              "NumOfProducts           4\n",
              "HasCrCard               2\n",
              "IsActiveMember          2\n",
              "EstimatedSalary     55298\n",
              "Exited                  2\n",
              "dtype: int64"
            ]
          },
          "metadata": {},
          "execution_count": 7
        }
      ]
    },
    {
      "cell_type": "code",
      "source": [
        "# convert some columns to objects\n",
        "#df['column_name'] = df['column_name'].astype(str)\n",
        "trainbanking['Tenure'] = trainbanking['Tenure'].astype(str)\n",
        "testbanking['Tenure'] = testbanking['Tenure'].astype(str)"
      ],
      "metadata": {
        "execution": {
          "iopub.status.busy": "2024-01-24T12:50:37.442724Z",
          "iopub.execute_input": "2024-01-24T12:50:37.444266Z",
          "iopub.status.idle": "2024-01-24T12:50:37.585459Z",
          "shell.execute_reply.started": "2024-01-24T12:50:37.44418Z",
          "shell.execute_reply": "2024-01-24T12:50:37.583805Z"
        },
        "trusted": true,
        "id": "DYz4rKZYD6Lx"
      },
      "execution_count": 8,
      "outputs": []
    },
    {
      "cell_type": "code",
      "source": [
        "# convert some columns to objects\n",
        "#df['column_name'] = df['column_name'].astype(str)\n",
        "trainbanking['NumOfProducts'] = trainbanking['NumOfProducts'].astype(str)\n",
        "testbanking['NumOfProducts'] = testbanking['NumOfProducts'].astype(str)"
      ],
      "metadata": {
        "execution": {
          "iopub.status.busy": "2024-01-24T12:50:47.850556Z",
          "iopub.execute_input": "2024-01-24T12:50:47.851076Z",
          "iopub.status.idle": "2024-01-24T12:50:47.874792Z",
          "shell.execute_reply.started": "2024-01-24T12:50:47.851032Z",
          "shell.execute_reply": "2024-01-24T12:50:47.873629Z"
        },
        "trusted": true,
        "id": "myEu6O6zD6Lz"
      },
      "execution_count": 9,
      "outputs": []
    },
    {
      "cell_type": "code",
      "source": [
        "trainbanking.info()"
      ],
      "metadata": {
        "execution": {
          "iopub.status.busy": "2024-01-24T12:50:53.169258Z",
          "iopub.execute_input": "2024-01-24T12:50:53.169797Z",
          "iopub.status.idle": "2024-01-24T12:50:53.239425Z",
          "shell.execute_reply.started": "2024-01-24T12:50:53.169751Z",
          "shell.execute_reply": "2024-01-24T12:50:53.237999Z"
        },
        "trusted": true,
        "id": "uvlUh2YpD6L0",
        "outputId": "a02297da-c4b3-4dc6-b501-110aacff1c81",
        "colab": {
          "base_uri": "https://localhost:8080/"
        }
      },
      "execution_count": 10,
      "outputs": [
        {
          "output_type": "stream",
          "name": "stdout",
          "text": [
            "<class 'pandas.core.frame.DataFrame'>\n",
            "RangeIndex: 165034 entries, 0 to 165033\n",
            "Data columns (total 14 columns):\n",
            " #   Column           Non-Null Count   Dtype  \n",
            "---  ------           --------------   -----  \n",
            " 0   id               165034 non-null  int64  \n",
            " 1   CustomerId       165034 non-null  int64  \n",
            " 2   Surname          165034 non-null  object \n",
            " 3   CreditScore      165034 non-null  int64  \n",
            " 4   Geography        165034 non-null  object \n",
            " 5   Gender           165034 non-null  object \n",
            " 6   Age              165034 non-null  float64\n",
            " 7   Tenure           165034 non-null  object \n",
            " 8   Balance          165034 non-null  float64\n",
            " 9   NumOfProducts    165034 non-null  object \n",
            " 10  HasCrCard        165034 non-null  float64\n",
            " 11  IsActiveMember   165034 non-null  float64\n",
            " 12  EstimatedSalary  165034 non-null  float64\n",
            " 13  Exited           165034 non-null  int64  \n",
            "dtypes: float64(5), int64(4), object(5)\n",
            "memory usage: 17.6+ MB\n"
          ]
        }
      ]
    },
    {
      "cell_type": "code",
      "source": [
        "trainbanking.drop(['id', 'CustomerId','Surname'], axis = 1, inplace = True)\n",
        "testbanking_id = testbanking[['id']].copy()\n",
        "testbanking.drop(['id', 'CustomerId' ,'Surname'],axis = 1, inplace = True)"
      ],
      "metadata": {
        "execution": {
          "iopub.status.busy": "2024-01-24T12:51:00.65026Z",
          "iopub.execute_input": "2024-01-24T12:51:00.651764Z",
          "iopub.status.idle": "2024-01-24T12:51:00.695197Z",
          "shell.execute_reply.started": "2024-01-24T12:51:00.651695Z",
          "shell.execute_reply": "2024-01-24T12:51:00.693907Z"
        },
        "trusted": true,
        "id": "80FHNudXD6L2"
      },
      "execution_count": 11,
      "outputs": []
    },
    {
      "cell_type": "code",
      "source": [
        "trainbanking.shape,testbanking.shape\n",
        "#,testbanking_id.shape"
      ],
      "metadata": {
        "execution": {
          "iopub.status.busy": "2024-01-24T12:51:06.56184Z",
          "iopub.execute_input": "2024-01-24T12:51:06.562455Z",
          "iopub.status.idle": "2024-01-24T12:51:06.572769Z",
          "shell.execute_reply.started": "2024-01-24T12:51:06.562399Z",
          "shell.execute_reply": "2024-01-24T12:51:06.571251Z"
        },
        "trusted": true,
        "id": "2GztJEWkD6L4",
        "outputId": "f225124b-0c46-4b7b-86ce-4b17683abd15",
        "colab": {
          "base_uri": "https://localhost:8080/"
        }
      },
      "execution_count": 12,
      "outputs": [
        {
          "output_type": "execute_result",
          "data": {
            "text/plain": [
              "((165034, 11), (110023, 10))"
            ]
          },
          "metadata": {},
          "execution_count": 12
        }
      ]
    },
    {
      "cell_type": "code",
      "source": [
        "trainbanking.columns"
      ],
      "metadata": {
        "execution": {
          "iopub.status.busy": "2024-01-24T12:51:12.656865Z",
          "iopub.execute_input": "2024-01-24T12:51:12.657336Z",
          "iopub.status.idle": "2024-01-24T12:51:12.665822Z",
          "shell.execute_reply.started": "2024-01-24T12:51:12.657299Z",
          "shell.execute_reply": "2024-01-24T12:51:12.664545Z"
        },
        "trusted": true,
        "id": "aDwefZZGD6L5",
        "outputId": "286fe80d-82b4-4a1a-bf62-d62e973ae8da",
        "colab": {
          "base_uri": "https://localhost:8080/"
        }
      },
      "execution_count": 13,
      "outputs": [
        {
          "output_type": "execute_result",
          "data": {
            "text/plain": [
              "Index(['CreditScore', 'Geography', 'Gender', 'Age', 'Tenure', 'Balance',\n",
              "       'NumOfProducts', 'HasCrCard', 'IsActiveMember', 'EstimatedSalary',\n",
              "       'Exited'],\n",
              "      dtype='object')"
            ]
          },
          "metadata": {},
          "execution_count": 13
        }
      ]
    },
    {
      "cell_type": "code",
      "source": [
        "features = ['CreditScore', 'Geography', 'Gender', 'Age', 'Tenure', 'Balance',\n",
        "       'NumOfProducts', 'HasCrCard', 'IsActiveMember', 'EstimatedSalary']\n",
        "\n",
        "target = ['Exited']"
      ],
      "metadata": {
        "execution": {
          "iopub.status.busy": "2024-01-24T12:51:16.304794Z",
          "iopub.execute_input": "2024-01-24T12:51:16.305311Z",
          "iopub.status.idle": "2024-01-24T12:51:16.312405Z",
          "shell.execute_reply.started": "2024-01-24T12:51:16.305273Z",
          "shell.execute_reply": "2024-01-24T12:51:16.310832Z"
        },
        "trusted": true,
        "id": "wJYXF-wcD6L6"
      },
      "execution_count": 14,
      "outputs": []
    },
    {
      "cell_type": "code",
      "source": [
        "ab = round(trainbanking.shape[0] * 0.7)\n",
        "ab"
      ],
      "metadata": {
        "execution": {
          "iopub.status.busy": "2024-01-24T12:51:22.2689Z",
          "iopub.execute_input": "2024-01-24T12:51:22.26941Z",
          "iopub.status.idle": "2024-01-24T12:51:22.276905Z",
          "shell.execute_reply.started": "2024-01-24T12:51:22.269365Z",
          "shell.execute_reply": "2024-01-24T12:51:22.275898Z"
        },
        "trusted": true,
        "id": "GsAiiR0kD6L7",
        "outputId": "803c3242-8e9c-4129-8bde-37241e6c28ec",
        "colab": {
          "base_uri": "https://localhost:8080/"
        }
      },
      "execution_count": 15,
      "outputs": [
        {
          "output_type": "execute_result",
          "data": {
            "text/plain": [
              "115524"
            ]
          },
          "metadata": {},
          "execution_count": 15
        }
      ]
    },
    {
      "cell_type": "code",
      "source": [
        "ac = len(trainbanking) - ab\n",
        "ac"
      ],
      "metadata": {
        "execution": {
          "iopub.status.busy": "2024-01-24T12:51:26.856764Z",
          "iopub.execute_input": "2024-01-24T12:51:26.857281Z",
          "iopub.status.idle": "2024-01-24T12:51:26.864733Z",
          "shell.execute_reply.started": "2024-01-24T12:51:26.857236Z",
          "shell.execute_reply": "2024-01-24T12:51:26.863624Z"
        },
        "trusted": true,
        "id": "nW36YM8MD6L8",
        "outputId": "baa22f06-ce8d-4626-e819-212775ab81d4",
        "colab": {
          "base_uri": "https://localhost:8080/"
        }
      },
      "execution_count": 16,
      "outputs": [
        {
          "output_type": "execute_result",
          "data": {
            "text/plain": [
              "49510"
            ]
          },
          "metadata": {},
          "execution_count": 16
        }
      ]
    },
    {
      "cell_type": "code",
      "source": [
        "X_train, y_train = trainbanking.iloc[:ab][features], trainbanking.iloc[:ab][target]\n",
        "X_test, y_test = trainbanking.iloc[ab:][features], trainbanking.iloc[ab:][target]\n"
      ],
      "metadata": {
        "execution": {
          "iopub.status.busy": "2024-01-24T12:51:32.12172Z",
          "iopub.execute_input": "2024-01-24T12:51:32.123366Z",
          "iopub.status.idle": "2024-01-24T12:51:32.150075Z",
          "shell.execute_reply.started": "2024-01-24T12:51:32.123286Z",
          "shell.execute_reply": "2024-01-24T12:51:32.14878Z"
        },
        "trusted": true,
        "id": "iC0Uk-UpD6L9"
      },
      "execution_count": 17,
      "outputs": []
    },
    {
      "cell_type": "code",
      "source": [
        "num_cols=[i for i in X_train.select_dtypes(exclude=['object'])]\n",
        "num_cols"
      ],
      "metadata": {
        "execution": {
          "iopub.status.busy": "2024-01-24T12:51:37.672949Z",
          "iopub.execute_input": "2024-01-24T12:51:37.673453Z",
          "iopub.status.idle": "2024-01-24T12:51:37.686613Z",
          "shell.execute_reply.started": "2024-01-24T12:51:37.673409Z",
          "shell.execute_reply": "2024-01-24T12:51:37.68523Z"
        },
        "trusted": true,
        "id": "JV9eQmqkD6L-",
        "outputId": "6577bce7-0ea3-4710-f3fb-caa02f2bb053",
        "colab": {
          "base_uri": "https://localhost:8080/"
        }
      },
      "execution_count": 18,
      "outputs": [
        {
          "output_type": "execute_result",
          "data": {
            "text/plain": [
              "['CreditScore',\n",
              " 'Age',\n",
              " 'Balance',\n",
              " 'HasCrCard',\n",
              " 'IsActiveMember',\n",
              " 'EstimatedSalary']"
            ]
          },
          "metadata": {},
          "execution_count": 18
        }
      ]
    },
    {
      "cell_type": "code",
      "source": [
        "len(num_cols)"
      ],
      "metadata": {
        "execution": {
          "iopub.status.busy": "2024-01-24T12:51:58.982003Z",
          "iopub.execute_input": "2024-01-24T12:51:58.98252Z",
          "iopub.status.idle": "2024-01-24T12:51:58.991679Z",
          "shell.execute_reply.started": "2024-01-24T12:51:58.98248Z",
          "shell.execute_reply": "2024-01-24T12:51:58.990078Z"
        },
        "trusted": true,
        "id": "Xl_DIs_AD6L_",
        "outputId": "96721d1f-bf47-4363-d819-9b4c14734f5b",
        "colab": {
          "base_uri": "https://localhost:8080/"
        }
      },
      "execution_count": 19,
      "outputs": [
        {
          "output_type": "execute_result",
          "data": {
            "text/plain": [
              "6"
            ]
          },
          "metadata": {},
          "execution_count": 19
        }
      ]
    },
    {
      "cell_type": "code",
      "source": [
        "scaler = StandardScaler().fit(X_train[num_cols])\n",
        "X_train.loc[:,num_cols] = scaler.transform(X_train[num_cols])\n",
        "#X_val.loc[:,num_cols] = scaler.transform(X_val[num_cols])\n",
        "X_test.loc[:,num_cols] = scaler.transform(X_test[num_cols])\n",
        "testbanking.loc[:, num_cols] = scaler.transform(testbanking[num_cols])"
      ],
      "metadata": {
        "execution": {
          "iopub.status.busy": "2024-01-24T12:52:24.01614Z",
          "iopub.execute_input": "2024-01-24T12:52:24.0167Z",
          "iopub.status.idle": "2024-01-24T12:52:24.097838Z",
          "shell.execute_reply.started": "2024-01-24T12:52:24.016655Z",
          "shell.execute_reply": "2024-01-24T12:52:24.095882Z"
        },
        "trusted": true,
        "id": "970aiOSCD6MA"
      },
      "execution_count": 20,
      "outputs": []
    },
    {
      "cell_type": "code",
      "source": [
        "col_vals_dict = {c: list(X_train[c].unique()) for c in X_train.columns if X_train[c].dtype == object}\n",
        "#col_vals_dict"
      ],
      "metadata": {
        "execution": {
          "iopub.status.busy": "2024-01-24T12:52:34.968271Z",
          "iopub.execute_input": "2024-01-24T12:52:34.968821Z",
          "iopub.status.idle": "2024-01-24T12:52:35.00717Z",
          "shell.execute_reply.started": "2024-01-24T12:52:34.968777Z",
          "shell.execute_reply": "2024-01-24T12:52:35.005671Z"
        },
        "trusted": true,
        "id": "m4DQtDZnD6MB"
      },
      "execution_count": 21,
      "outputs": []
    },
    {
      "cell_type": "code",
      "source": [
        "nb_numeric   = len(X_train.columns) - len(col_vals_dict)\n",
        "nb_categoric = len(col_vals_dict)\n",
        "print('Number of Numerical features:', nb_numeric)\n",
        "print('Number of Categorical features:', nb_categoric)\n"
      ],
      "metadata": {
        "execution": {
          "iopub.status.busy": "2024-01-24T12:53:12.242461Z",
          "iopub.execute_input": "2024-01-24T12:53:12.242976Z",
          "iopub.status.idle": "2024-01-24T12:53:12.250419Z",
          "shell.execute_reply.started": "2024-01-24T12:53:12.242935Z",
          "shell.execute_reply": "2024-01-24T12:53:12.249084Z"
        },
        "trusted": true,
        "id": "o-zAsX2VD6MC",
        "outputId": "ed2de9cd-7258-4143-c714-d110a6b27c9c",
        "colab": {
          "base_uri": "https://localhost:8080/"
        }
      },
      "execution_count": 22,
      "outputs": [
        {
          "output_type": "stream",
          "name": "stdout",
          "text": [
            "Number of Numerical features: 6\n",
            "Number of Categorical features: 4\n"
          ]
        }
      ]
    },
    {
      "cell_type": "code",
      "source": [
        "embed_cols = []\n",
        "non_embed_cols = []\n",
        "len_embed_cols = []\n",
        "for c in col_vals_dict:\n",
        "    if len(col_vals_dict[c])>2:\n",
        "        embed_cols.append(c)\n",
        "        len_embed_cols.append(len(col_vals_dict[c]))\n",
        "        print(c + ': %d values' % len(col_vals_dict[c])) #look at value counts to know the embedding dimensions(\n",
        "\n",
        "    else:\n",
        "      non_embed_cols.append(c)\n",
        "      print(c + ': %d values' % len(col_vals_dict[c]))\n",
        "\n",
        "print('\\n Number of embed features :', len(embed_cols))\n"
      ],
      "metadata": {
        "execution": {
          "iopub.status.busy": "2024-01-24T12:53:35.018117Z",
          "iopub.execute_input": "2024-01-24T12:53:35.018647Z",
          "iopub.status.idle": "2024-01-24T12:53:35.027009Z",
          "shell.execute_reply.started": "2024-01-24T12:53:35.018602Z",
          "shell.execute_reply": "2024-01-24T12:53:35.02574Z"
        },
        "trusted": true,
        "id": "KikTTosFD6MD",
        "outputId": "9e6b5bb4-f248-4103-fd4f-30bb19051f50",
        "colab": {
          "base_uri": "https://localhost:8080/"
        }
      },
      "execution_count": 23,
      "outputs": [
        {
          "output_type": "stream",
          "name": "stdout",
          "text": [
            "Geography: 3 values\n",
            "Gender: 2 values\n",
            "Tenure: 11 values\n",
            "NumOfProducts: 4 values\n",
            "\n",
            " Number of embed features : 3\n"
          ]
        }
      ]
    },
    {
      "cell_type": "code",
      "source": [
        "myself = embed_cols + non_embed_cols\n",
        "len(myself)"
      ],
      "metadata": {
        "execution": {
          "iopub.status.busy": "2024-01-24T12:53:41.996875Z",
          "iopub.execute_input": "2024-01-24T12:53:41.997348Z",
          "iopub.status.idle": "2024-01-24T12:53:42.005116Z",
          "shell.execute_reply.started": "2024-01-24T12:53:41.997314Z",
          "shell.execute_reply": "2024-01-24T12:53:42.004121Z"
        },
        "trusted": true,
        "id": "KGEhgpJuD6ME",
        "outputId": "13e0b071-d266-48e2-a4c9-d2608090927d",
        "colab": {
          "base_uri": "https://localhost:8080/"
        }
      },
      "execution_count": 24,
      "outputs": [
        {
          "output_type": "execute_result",
          "data": {
            "text/plain": [
              "4"
            ]
          },
          "metadata": {},
          "execution_count": 24
        }
      ]
    },
    {
      "cell_type": "code",
      "source": [
        "#converting data to list format to match the network structure\n",
        "def preproc(X_train, X_test):\n",
        "\n",
        "    input_list_train = []\n",
        "#    input_list_val = []\n",
        "    input_list_test = []\n",
        "\n",
        "    #the cols to be embedded: rescaling to range [0, # values)\n",
        "    for c in embed_cols:\n",
        "        raw_vals = np.unique(X_train[c])\n",
        "        val_map = {}\n",
        "        for i in range(len(raw_vals)):\n",
        "            val_map[raw_vals[i]] = i\n",
        "        input_list_train.append(X_train[c].map(val_map).values)\n",
        "#        input_list_val.append(X_val[c].map(val_map).fillna(0).values)\n",
        "        input_list_test.append(X_test[c].map(val_map).fillna(0).values)\n",
        "\n",
        "    #the rest of the columns\n",
        "    other_cols = [c for c in X_train.columns if (not c in (myself))]\n",
        "    input_list_train.append(X_train[other_cols].values)\n",
        "#    input_list_val.append(X_val[other_cols].values)\n",
        "    input_list_test.append(X_test[other_cols].values)\n",
        "\n",
        "    return input_list_train, input_list_test"
      ],
      "metadata": {
        "execution": {
          "iopub.status.busy": "2024-01-24T12:58:12.301647Z",
          "iopub.execute_input": "2024-01-24T12:58:12.302305Z",
          "iopub.status.idle": "2024-01-24T12:58:12.314008Z",
          "shell.execute_reply.started": "2024-01-24T12:58:12.302255Z",
          "shell.execute_reply": "2024-01-24T12:58:12.312455Z"
        },
        "trusted": true,
        "id": "UwFh6gwBD6MF"
      },
      "execution_count": 25,
      "outputs": []
    },
    {
      "cell_type": "code",
      "source": [],
      "metadata": {
        "id": "YhfG-YG5D6MG"
      },
      "execution_count": 25,
      "outputs": []
    },
    {
      "cell_type": "code",
      "source": [
        "X_train_list,X_test_list = preproc(X_train, X_test)"
      ],
      "metadata": {
        "execution": {
          "iopub.status.busy": "2024-01-24T12:58:20.181927Z",
          "iopub.execute_input": "2024-01-24T12:58:20.182464Z",
          "iopub.status.idle": "2024-01-24T12:58:20.562436Z",
          "shell.execute_reply.started": "2024-01-24T12:58:20.18242Z",
          "shell.execute_reply": "2024-01-24T12:58:20.561129Z"
        },
        "trusted": true,
        "id": "uVwTIAgpD6MH"
      },
      "execution_count": 26,
      "outputs": []
    },
    {
      "cell_type": "code",
      "source": [
        "len_embed_cols"
      ],
      "metadata": {
        "execution": {
          "iopub.status.busy": "2024-01-24T12:58:24.234397Z",
          "iopub.execute_input": "2024-01-24T12:58:24.234911Z",
          "iopub.status.idle": "2024-01-24T12:58:24.24343Z",
          "shell.execute_reply.started": "2024-01-24T12:58:24.234869Z",
          "shell.execute_reply": "2024-01-24T12:58:24.241974Z"
        },
        "trusted": true,
        "id": "EGPzKvQVD6MI",
        "outputId": "609ec448-b792-4585-80c2-d864b572098c",
        "colab": {
          "base_uri": "https://localhost:8080/"
        }
      },
      "execution_count": 27,
      "outputs": [
        {
          "output_type": "execute_result",
          "data": {
            "text/plain": [
              "[3, 11, 4]"
            ]
          },
          "metadata": {},
          "execution_count": 27
        }
      ]
    },
    {
      "cell_type": "code",
      "source": [
        "model_out = []\n",
        "model_in  = []\n",
        "\n",
        "for dim in len_embed_cols:\n",
        "\n",
        "#     Define the embedding_size\n",
        "#    no_of_unique_cat  = X_train[categorical_var].nunique()\n",
        "    embedding_size = int(min(np.ceil((dim)/2), 50 ))\n",
        "\n",
        "    input_dim = Input(shape=(1,), dtype='int32')\n",
        "    embed_dim = Embedding(dim, embedding_size, input_length=1)(input_dim)\n",
        "    embed_dim = Dropout(0.25)(embed_dim)\n",
        "    embed_dim = Reshape((embedding_size,))(embed_dim)\n",
        "    model_out.append(embed_dim)\n",
        "    model_in.append(input_dim)\n",
        "\n",
        "input_num = Input(shape=(6,), dtype='float32')\n",
        "embedding_numeric = Dense(16)(input_num)\n",
        "model_in.append(input_num)\n",
        "model_out.append(embedding_numeric)\n",
        "\n",
        "#    outputs = Concatenate(axis=1)([*model_out, input_num])\n",
        "output = Concatenate()(model_out)\n",
        "outputs = (Dense(128))(output)\n",
        "outputs = (Activation('relu'))(outputs)\n",
        "outputs = (Dropout(.35))(outputs)\n",
        "outputs = (Dense(64))(outputs)\n",
        "outputs = (Activation('relu'))(outputs)\n",
        "outputs = (Dropout(.15))(outputs)\n",
        "outputs = (Dense(32))(outputs)\n",
        "outputs = (Activation('relu'))(outputs)\n",
        "outputs = (Dropout(.15))(outputs)\n",
        "outputs = (Dense(1))(outputs)\n",
        "outputs = (Activation('sigmoid'))(outputs)\n",
        "\n",
        "model = Model(model_in, outputs)\n",
        "\n",
        "#    model = Model([*model_in, input_num], outputs)\n",
        "\n",
        "# model.compile(loss='binary_crossentropy', optimizer='adam', metrics=['mse','mape'])\n",
        "\n",
        "\n",
        "\n",
        "model.compile(optimizer = SGD(learning_rate=0.01), loss='binary_crossentropy', metrics=[AUC()])\n",
        "#    return model"
      ],
      "metadata": {
        "execution": {
          "iopub.status.busy": "2024-01-24T12:58:32.802355Z",
          "iopub.execute_input": "2024-01-24T12:58:32.802853Z",
          "iopub.status.idle": "2024-01-24T12:58:33.215318Z",
          "shell.execute_reply.started": "2024-01-24T12:58:32.802814Z",
          "shell.execute_reply": "2024-01-24T12:58:33.21343Z"
        },
        "trusted": true,
        "id": "FDppk4XHD6MJ"
      },
      "execution_count": 28,
      "outputs": []
    },
    {
      "cell_type": "code",
      "source": [
        "callback = EarlyStopping(monitor='val_auc', patience=5)\n",
        "history = model.fit(X_train_list, y_train, epochs=1000, batch_size=250, validation_split=0.1, callbacks=[callback], verbose=2)"
      ],
      "metadata": {
        "execution": {
          "iopub.status.busy": "2024-01-24T12:58:39.110389Z",
          "iopub.execute_input": "2024-01-24T12:58:39.110906Z",
          "iopub.status.idle": "2024-01-24T13:01:43.059005Z",
          "shell.execute_reply.started": "2024-01-24T12:58:39.110865Z",
          "shell.execute_reply": "2024-01-24T13:01:43.057321Z"
        },
        "trusted": true,
        "id": "xTkAR_xvD6MK",
        "outputId": "8cea1759-9c06-4ff6-d1be-852c074d721b",
        "colab": {
          "base_uri": "https://localhost:8080/"
        }
      },
      "execution_count": 29,
      "outputs": [
        {
          "output_type": "stream",
          "name": "stdout",
          "text": [
            "Epoch 1/1000\n",
            "416/416 - 5s - loss: 0.5391 - auc: 0.5661 - val_loss: 0.4711 - val_auc: 0.7299 - 5s/epoch - 12ms/step\n",
            "Epoch 2/1000\n",
            "416/416 - 4s - loss: 0.4665 - auc: 0.7263 - val_loss: 0.4450 - val_auc: 0.7628 - 4s/epoch - 10ms/step\n",
            "Epoch 3/1000\n",
            "416/416 - 3s - loss: 0.4475 - auc: 0.7591 - val_loss: 0.4343 - val_auc: 0.7740 - 3s/epoch - 8ms/step\n",
            "Epoch 4/1000\n",
            "416/416 - 3s - loss: 0.4394 - auc: 0.7685 - val_loss: 0.4289 - val_auc: 0.7786 - 3s/epoch - 8ms/step\n",
            "Epoch 5/1000\n",
            "416/416 - 4s - loss: 0.4334 - auc: 0.7742 - val_loss: 0.4260 - val_auc: 0.7806 - 4s/epoch - 9ms/step\n",
            "Epoch 6/1000\n",
            "416/416 - 3s - loss: 0.4315 - auc: 0.7754 - val_loss: 0.4242 - val_auc: 0.7820 - 3s/epoch - 8ms/step\n",
            "Epoch 7/1000\n",
            "416/416 - 3s - loss: 0.4285 - auc: 0.7784 - val_loss: 0.4225 - val_auc: 0.7836 - 3s/epoch - 8ms/step\n",
            "Epoch 8/1000\n",
            "416/416 - 4s - loss: 0.4262 - auc: 0.7804 - val_loss: 0.4205 - val_auc: 0.7857 - 4s/epoch - 9ms/step\n",
            "Epoch 9/1000\n",
            "416/416 - 4s - loss: 0.4242 - auc: 0.7823 - val_loss: 0.4180 - val_auc: 0.7884 - 4s/epoch - 10ms/step\n",
            "Epoch 10/1000\n",
            "416/416 - 3s - loss: 0.4209 - auc: 0.7862 - val_loss: 0.4145 - val_auc: 0.7929 - 3s/epoch - 8ms/step\n",
            "Epoch 11/1000\n",
            "416/416 - 3s - loss: 0.4179 - auc: 0.7899 - val_loss: 0.4097 - val_auc: 0.7989 - 3s/epoch - 7ms/step\n",
            "Epoch 12/1000\n",
            "416/416 - 3s - loss: 0.4131 - auc: 0.7963 - val_loss: 0.4030 - val_auc: 0.8075 - 3s/epoch - 8ms/step\n",
            "Epoch 13/1000\n",
            "416/416 - 3s - loss: 0.4069 - auc: 0.8040 - val_loss: 0.3948 - val_auc: 0.8179 - 3s/epoch - 8ms/step\n",
            "Epoch 14/1000\n",
            "416/416 - 2s - loss: 0.3996 - auc: 0.8134 - val_loss: 0.3857 - val_auc: 0.8291 - 2s/epoch - 4ms/step\n",
            "Epoch 15/1000\n",
            "416/416 - 2s - loss: 0.3920 - auc: 0.8224 - val_loss: 0.3775 - val_auc: 0.8388 - 2s/epoch - 4ms/step\n",
            "Epoch 16/1000\n",
            "416/416 - 2s - loss: 0.3876 - auc: 0.8279 - val_loss: 0.3716 - val_auc: 0.8450 - 2s/epoch - 4ms/step\n",
            "Epoch 17/1000\n",
            "416/416 - 2s - loss: 0.3836 - auc: 0.8326 - val_loss: 0.3671 - val_auc: 0.8497 - 2s/epoch - 4ms/step\n",
            "Epoch 18/1000\n",
            "416/416 - 2s - loss: 0.3816 - auc: 0.8356 - val_loss: 0.3646 - val_auc: 0.8521 - 2s/epoch - 4ms/step\n",
            "Epoch 19/1000\n",
            "416/416 - 2s - loss: 0.3791 - auc: 0.8380 - val_loss: 0.3626 - val_auc: 0.8541 - 2s/epoch - 5ms/step\n",
            "Epoch 20/1000\n",
            "416/416 - 2s - loss: 0.3782 - auc: 0.8387 - val_loss: 0.3608 - val_auc: 0.8557 - 2s/epoch - 5ms/step\n",
            "Epoch 21/1000\n",
            "416/416 - 2s - loss: 0.3762 - auc: 0.8410 - val_loss: 0.3594 - val_auc: 0.8569 - 2s/epoch - 4ms/step\n",
            "Epoch 22/1000\n",
            "416/416 - 2s - loss: 0.3766 - auc: 0.8408 - val_loss: 0.3583 - val_auc: 0.8579 - 2s/epoch - 4ms/step\n",
            "Epoch 23/1000\n",
            "416/416 - 2s - loss: 0.3740 - auc: 0.8436 - val_loss: 0.3573 - val_auc: 0.8590 - 2s/epoch - 4ms/step\n",
            "Epoch 24/1000\n",
            "416/416 - 2s - loss: 0.3724 - auc: 0.8451 - val_loss: 0.3560 - val_auc: 0.8601 - 2s/epoch - 4ms/step\n",
            "Epoch 25/1000\n",
            "416/416 - 2s - loss: 0.3723 - auc: 0.8447 - val_loss: 0.3549 - val_auc: 0.8610 - 2s/epoch - 4ms/step\n",
            "Epoch 26/1000\n",
            "416/416 - 2s - loss: 0.3720 - auc: 0.8449 - val_loss: 0.3538 - val_auc: 0.8621 - 2s/epoch - 6ms/step\n",
            "Epoch 27/1000\n",
            "416/416 - 2s - loss: 0.3701 - auc: 0.8466 - val_loss: 0.3528 - val_auc: 0.8629 - 2s/epoch - 4ms/step\n",
            "Epoch 28/1000\n",
            "416/416 - 2s - loss: 0.3691 - auc: 0.8478 - val_loss: 0.3517 - val_auc: 0.8639 - 2s/epoch - 4ms/step\n",
            "Epoch 29/1000\n",
            "416/416 - 2s - loss: 0.3677 - auc: 0.8488 - val_loss: 0.3507 - val_auc: 0.8648 - 2s/epoch - 4ms/step\n",
            "Epoch 30/1000\n",
            "416/416 - 2s - loss: 0.3675 - auc: 0.8496 - val_loss: 0.3494 - val_auc: 0.8659 - 2s/epoch - 4ms/step\n",
            "Epoch 31/1000\n",
            "416/416 - 2s - loss: 0.3653 - auc: 0.8512 - val_loss: 0.3485 - val_auc: 0.8665 - 2s/epoch - 4ms/step\n",
            "Epoch 32/1000\n",
            "416/416 - 2s - loss: 0.3653 - auc: 0.8510 - val_loss: 0.3476 - val_auc: 0.8673 - 2s/epoch - 4ms/step\n",
            "Epoch 33/1000\n",
            "416/416 - 3s - loss: 0.3639 - auc: 0.8524 - val_loss: 0.3467 - val_auc: 0.8681 - 3s/epoch - 7ms/step\n",
            "Epoch 34/1000\n",
            "416/416 - 2s - loss: 0.3639 - auc: 0.8527 - val_loss: 0.3460 - val_auc: 0.8688 - 2s/epoch - 4ms/step\n",
            "Epoch 35/1000\n",
            "416/416 - 2s - loss: 0.3630 - auc: 0.8528 - val_loss: 0.3451 - val_auc: 0.8693 - 2s/epoch - 4ms/step\n",
            "Epoch 36/1000\n",
            "416/416 - 2s - loss: 0.3615 - auc: 0.8544 - val_loss: 0.3443 - val_auc: 0.8699 - 2s/epoch - 4ms/step\n",
            "Epoch 37/1000\n",
            "416/416 - 2s - loss: 0.3615 - auc: 0.8544 - val_loss: 0.3436 - val_auc: 0.8705 - 2s/epoch - 4ms/step\n",
            "Epoch 38/1000\n",
            "416/416 - 2s - loss: 0.3608 - auc: 0.8552 - val_loss: 0.3429 - val_auc: 0.8710 - 2s/epoch - 4ms/step\n",
            "Epoch 39/1000\n",
            "416/416 - 2s - loss: 0.3605 - auc: 0.8557 - val_loss: 0.3424 - val_auc: 0.8715 - 2s/epoch - 5ms/step\n",
            "Epoch 40/1000\n",
            "416/416 - 3s - loss: 0.3608 - auc: 0.8551 - val_loss: 0.3417 - val_auc: 0.8718 - 3s/epoch - 6ms/step\n",
            "Epoch 41/1000\n",
            "416/416 - 2s - loss: 0.3592 - auc: 0.8565 - val_loss: 0.3414 - val_auc: 0.8721 - 2s/epoch - 4ms/step\n",
            "Epoch 42/1000\n",
            "416/416 - 2s - loss: 0.3582 - auc: 0.8577 - val_loss: 0.3410 - val_auc: 0.8724 - 2s/epoch - 4ms/step\n",
            "Epoch 43/1000\n",
            "416/416 - 2s - loss: 0.3583 - auc: 0.8571 - val_loss: 0.3403 - val_auc: 0.8730 - 2s/epoch - 4ms/step\n",
            "Epoch 44/1000\n",
            "416/416 - 2s - loss: 0.3575 - auc: 0.8576 - val_loss: 0.3399 - val_auc: 0.8733 - 2s/epoch - 4ms/step\n",
            "Epoch 45/1000\n",
            "416/416 - 2s - loss: 0.3573 - auc: 0.8585 - val_loss: 0.3394 - val_auc: 0.8738 - 2s/epoch - 4ms/step\n",
            "Epoch 46/1000\n",
            "416/416 - 2s - loss: 0.3576 - auc: 0.8572 - val_loss: 0.3393 - val_auc: 0.8740 - 2s/epoch - 5ms/step\n",
            "Epoch 47/1000\n",
            "416/416 - 2s - loss: 0.3567 - auc: 0.8586 - val_loss: 0.3388 - val_auc: 0.8740 - 2s/epoch - 5ms/step\n",
            "Epoch 48/1000\n",
            "416/416 - 2s - loss: 0.3572 - auc: 0.8580 - val_loss: 0.3386 - val_auc: 0.8742 - 2s/epoch - 4ms/step\n",
            "Epoch 49/1000\n",
            "416/416 - 2s - loss: 0.3549 - auc: 0.8602 - val_loss: 0.3381 - val_auc: 0.8747 - 2s/epoch - 4ms/step\n",
            "Epoch 50/1000\n",
            "416/416 - 2s - loss: 0.3553 - auc: 0.8596 - val_loss: 0.3376 - val_auc: 0.8749 - 2s/epoch - 4ms/step\n",
            "Epoch 51/1000\n",
            "416/416 - 2s - loss: 0.3544 - auc: 0.8604 - val_loss: 0.3372 - val_auc: 0.8753 - 2s/epoch - 4ms/step\n",
            "Epoch 52/1000\n",
            "416/416 - 2s - loss: 0.3547 - auc: 0.8600 - val_loss: 0.3372 - val_auc: 0.8753 - 2s/epoch - 4ms/step\n",
            "Epoch 53/1000\n",
            "416/416 - 3s - loss: 0.3545 - auc: 0.8604 - val_loss: 0.3368 - val_auc: 0.8756 - 3s/epoch - 6ms/step\n",
            "Epoch 54/1000\n",
            "416/416 - 2s - loss: 0.3539 - auc: 0.8608 - val_loss: 0.3363 - val_auc: 0.8759 - 2s/epoch - 4ms/step\n",
            "Epoch 55/1000\n",
            "416/416 - 2s - loss: 0.3538 - auc: 0.8608 - val_loss: 0.3362 - val_auc: 0.8759 - 2s/epoch - 4ms/step\n",
            "Epoch 56/1000\n",
            "416/416 - 2s - loss: 0.3536 - auc: 0.8608 - val_loss: 0.3361 - val_auc: 0.8760 - 2s/epoch - 5ms/step\n",
            "Epoch 57/1000\n",
            "416/416 - 3s - loss: 0.3531 - auc: 0.8610 - val_loss: 0.3356 - val_auc: 0.8763 - 3s/epoch - 7ms/step\n",
            "Epoch 58/1000\n",
            "416/416 - 3s - loss: 0.3522 - auc: 0.8622 - val_loss: 0.3351 - val_auc: 0.8768 - 3s/epoch - 7ms/step\n",
            "Epoch 59/1000\n",
            "416/416 - 2s - loss: 0.3523 - auc: 0.8618 - val_loss: 0.3351 - val_auc: 0.8767 - 2s/epoch - 5ms/step\n",
            "Epoch 60/1000\n",
            "416/416 - 2s - loss: 0.3531 - auc: 0.8610 - val_loss: 0.3350 - val_auc: 0.8768 - 2s/epoch - 4ms/step\n",
            "Epoch 61/1000\n",
            "416/416 - 2s - loss: 0.3509 - auc: 0.8630 - val_loss: 0.3345 - val_auc: 0.8771 - 2s/epoch - 4ms/step\n",
            "Epoch 62/1000\n",
            "416/416 - 2s - loss: 0.3509 - auc: 0.8629 - val_loss: 0.3345 - val_auc: 0.8773 - 2s/epoch - 4ms/step\n",
            "Epoch 63/1000\n",
            "416/416 - 2s - loss: 0.3518 - auc: 0.8620 - val_loss: 0.3341 - val_auc: 0.8772 - 2s/epoch - 4ms/step\n",
            "Epoch 64/1000\n",
            "416/416 - 2s - loss: 0.3506 - auc: 0.8637 - val_loss: 0.3340 - val_auc: 0.8774 - 2s/epoch - 4ms/step\n",
            "Epoch 65/1000\n",
            "416/416 - 3s - loss: 0.3510 - auc: 0.8629 - val_loss: 0.3336 - val_auc: 0.8777 - 3s/epoch - 6ms/step\n",
            "Epoch 66/1000\n",
            "416/416 - 2s - loss: 0.3507 - auc: 0.8631 - val_loss: 0.3336 - val_auc: 0.8777 - 2s/epoch - 4ms/step\n",
            "Epoch 67/1000\n",
            "416/416 - 3s - loss: 0.3499 - auc: 0.8640 - val_loss: 0.3335 - val_auc: 0.8779 - 3s/epoch - 6ms/step\n",
            "Epoch 68/1000\n",
            "416/416 - 2s - loss: 0.3489 - auc: 0.8644 - val_loss: 0.3332 - val_auc: 0.8781 - 2s/epoch - 4ms/step\n",
            "Epoch 69/1000\n",
            "416/416 - 2s - loss: 0.3491 - auc: 0.8647 - val_loss: 0.3329 - val_auc: 0.8781 - 2s/epoch - 4ms/step\n",
            "Epoch 70/1000\n",
            "416/416 - 2s - loss: 0.3500 - auc: 0.8637 - val_loss: 0.3332 - val_auc: 0.8780 - 2s/epoch - 4ms/step\n",
            "Epoch 71/1000\n",
            "416/416 - 3s - loss: 0.3483 - auc: 0.8650 - val_loss: 0.3326 - val_auc: 0.8785 - 3s/epoch - 7ms/step\n",
            "Epoch 72/1000\n",
            "416/416 - 2s - loss: 0.3491 - auc: 0.8642 - val_loss: 0.3323 - val_auc: 0.8786 - 2s/epoch - 4ms/step\n",
            "Epoch 73/1000\n",
            "416/416 - 2s - loss: 0.3500 - auc: 0.8637 - val_loss: 0.3323 - val_auc: 0.8786 - 2s/epoch - 4ms/step\n",
            "Epoch 74/1000\n",
            "416/416 - 2s - loss: 0.3489 - auc: 0.8652 - val_loss: 0.3322 - val_auc: 0.8787 - 2s/epoch - 4ms/step\n",
            "Epoch 75/1000\n",
            "416/416 - 2s - loss: 0.3493 - auc: 0.8643 - val_loss: 0.3324 - val_auc: 0.8785 - 2s/epoch - 4ms/step\n",
            "Epoch 76/1000\n",
            "416/416 - 2s - loss: 0.3484 - auc: 0.8654 - val_loss: 0.3319 - val_auc: 0.8789 - 2s/epoch - 4ms/step\n",
            "Epoch 77/1000\n",
            "416/416 - 2s - loss: 0.3478 - auc: 0.8654 - val_loss: 0.3320 - val_auc: 0.8788 - 2s/epoch - 5ms/step\n",
            "Epoch 78/1000\n",
            "416/416 - 2s - loss: 0.3485 - auc: 0.8652 - val_loss: 0.3320 - val_auc: 0.8789 - 2s/epoch - 5ms/step\n",
            "Epoch 79/1000\n",
            "416/416 - 2s - loss: 0.3473 - auc: 0.8655 - val_loss: 0.3318 - val_auc: 0.8790 - 2s/epoch - 4ms/step\n",
            "Epoch 80/1000\n",
            "416/416 - 2s - loss: 0.3481 - auc: 0.8653 - val_loss: 0.3315 - val_auc: 0.8793 - 2s/epoch - 4ms/step\n",
            "Epoch 81/1000\n",
            "416/416 - 2s - loss: 0.3478 - auc: 0.8660 - val_loss: 0.3315 - val_auc: 0.8792 - 2s/epoch - 4ms/step\n",
            "Epoch 82/1000\n",
            "416/416 - 2s - loss: 0.3465 - auc: 0.8669 - val_loss: 0.3316 - val_auc: 0.8792 - 2s/epoch - 4ms/step\n",
            "Epoch 83/1000\n",
            "416/416 - 2s - loss: 0.3470 - auc: 0.8665 - val_loss: 0.3312 - val_auc: 0.8793 - 2s/epoch - 4ms/step\n",
            "Epoch 84/1000\n",
            "416/416 - 3s - loss: 0.3459 - auc: 0.8671 - val_loss: 0.3312 - val_auc: 0.8795 - 3s/epoch - 7ms/step\n",
            "Epoch 85/1000\n",
            "416/416 - 2s - loss: 0.3468 - auc: 0.8667 - val_loss: 0.3311 - val_auc: 0.8795 - 2s/epoch - 4ms/step\n",
            "Epoch 86/1000\n",
            "416/416 - 2s - loss: 0.3471 - auc: 0.8664 - val_loss: 0.3313 - val_auc: 0.8792 - 2s/epoch - 4ms/step\n",
            "Epoch 87/1000\n",
            "416/416 - 2s - loss: 0.3459 - auc: 0.8674 - val_loss: 0.3309 - val_auc: 0.8795 - 2s/epoch - 4ms/step\n",
            "Epoch 88/1000\n",
            "416/416 - 2s - loss: 0.3472 - auc: 0.8667 - val_loss: 0.3309 - val_auc: 0.8795 - 2s/epoch - 4ms/step\n",
            "Epoch 89/1000\n",
            "416/416 - 2s - loss: 0.3464 - auc: 0.8671 - val_loss: 0.3310 - val_auc: 0.8795 - 2s/epoch - 4ms/step\n",
            "Epoch 90/1000\n",
            "416/416 - 2s - loss: 0.3467 - auc: 0.8666 - val_loss: 0.3308 - val_auc: 0.8797 - 2s/epoch - 5ms/step\n",
            "Epoch 91/1000\n",
            "416/416 - 2s - loss: 0.3471 - auc: 0.8662 - val_loss: 0.3306 - val_auc: 0.8798 - 2s/epoch - 5ms/step\n",
            "Epoch 92/1000\n",
            "416/416 - 2s - loss: 0.3460 - auc: 0.8674 - val_loss: 0.3308 - val_auc: 0.8797 - 2s/epoch - 4ms/step\n",
            "Epoch 93/1000\n",
            "416/416 - 2s - loss: 0.3471 - auc: 0.8661 - val_loss: 0.3309 - val_auc: 0.8797 - 2s/epoch - 4ms/step\n",
            "Epoch 94/1000\n",
            "416/416 - 2s - loss: 0.3458 - auc: 0.8678 - val_loss: 0.3305 - val_auc: 0.8800 - 2s/epoch - 4ms/step\n",
            "Epoch 95/1000\n",
            "416/416 - 2s - loss: 0.3464 - auc: 0.8672 - val_loss: 0.3304 - val_auc: 0.8801 - 2s/epoch - 4ms/step\n",
            "Epoch 96/1000\n",
            "416/416 - 2s - loss: 0.3457 - auc: 0.8672 - val_loss: 0.3305 - val_auc: 0.8800 - 2s/epoch - 4ms/step\n",
            "Epoch 97/1000\n",
            "416/416 - 3s - loss: 0.3456 - auc: 0.8677 - val_loss: 0.3305 - val_auc: 0.8800 - 3s/epoch - 6ms/step\n",
            "Epoch 98/1000\n",
            "416/416 - 2s - loss: 0.3462 - auc: 0.8668 - val_loss: 0.3306 - val_auc: 0.8799 - 2s/epoch - 4ms/step\n",
            "Epoch 99/1000\n",
            "416/416 - 2s - loss: 0.3453 - auc: 0.8681 - val_loss: 0.3303 - val_auc: 0.8802 - 2s/epoch - 4ms/step\n",
            "Epoch 100/1000\n",
            "416/416 - 2s - loss: 0.3456 - auc: 0.8678 - val_loss: 0.3303 - val_auc: 0.8801 - 2s/epoch - 4ms/step\n",
            "Epoch 101/1000\n",
            "416/416 - 2s - loss: 0.3453 - auc: 0.8679 - val_loss: 0.3303 - val_auc: 0.8802 - 2s/epoch - 4ms/step\n",
            "Epoch 102/1000\n",
            "416/416 - 2s - loss: 0.3459 - auc: 0.8677 - val_loss: 0.3302 - val_auc: 0.8801 - 2s/epoch - 4ms/step\n",
            "Epoch 103/1000\n",
            "416/416 - 2s - loss: 0.3454 - auc: 0.8680 - val_loss: 0.3300 - val_auc: 0.8804 - 2s/epoch - 5ms/step\n",
            "Epoch 104/1000\n",
            "416/416 - 2s - loss: 0.3457 - auc: 0.8678 - val_loss: 0.3301 - val_auc: 0.8803 - 2s/epoch - 6ms/step\n",
            "Epoch 105/1000\n",
            "416/416 - 2s - loss: 0.3451 - auc: 0.8683 - val_loss: 0.3302 - val_auc: 0.8801 - 2s/epoch - 4ms/step\n",
            "Epoch 106/1000\n",
            "416/416 - 2s - loss: 0.3449 - auc: 0.8681 - val_loss: 0.3300 - val_auc: 0.8802 - 2s/epoch - 4ms/step\n",
            "Epoch 107/1000\n",
            "416/416 - 2s - loss: 0.3441 - auc: 0.8690 - val_loss: 0.3296 - val_auc: 0.8807 - 2s/epoch - 4ms/step\n",
            "Epoch 108/1000\n",
            "416/416 - 2s - loss: 0.3453 - auc: 0.8678 - val_loss: 0.3299 - val_auc: 0.8804 - 2s/epoch - 4ms/step\n",
            "Epoch 109/1000\n",
            "416/416 - 2s - loss: 0.3445 - auc: 0.8686 - val_loss: 0.3301 - val_auc: 0.8802 - 2s/epoch - 4ms/step\n",
            "Epoch 110/1000\n",
            "416/416 - 3s - loss: 0.3447 - auc: 0.8684 - val_loss: 0.3298 - val_auc: 0.8805 - 3s/epoch - 6ms/step\n",
            "Epoch 111/1000\n",
            "416/416 - 2s - loss: 0.3434 - auc: 0.8694 - val_loss: 0.3298 - val_auc: 0.8805 - 2s/epoch - 5ms/step\n",
            "Epoch 112/1000\n",
            "416/416 - 2s - loss: 0.3446 - auc: 0.8688 - val_loss: 0.3297 - val_auc: 0.8805 - 2s/epoch - 4ms/step\n"
          ]
        }
      ]
    },
    {
      "cell_type": "code",
      "source": [
        "# Extract training and validation loss and accuracy from the history object\n",
        "train_loss = history.history['loss']\n",
        "val_loss = history.history['val_loss']\n",
        "#train_auc = history.history['auc']\n",
        "#val_auc = history.history['val_auc']\n",
        "\n",
        "# Plot training and validation loss\n",
        "plt.figure(figsize=(10, 5))\n",
        "plt.subplot(1, 2, 1)\n",
        "plt.plot(train_loss, label='Training Loss')\n",
        "plt.plot(val_loss, label='Validation Loss')\n",
        "plt.title('Training and Validation Loss')\n",
        "plt.xlabel('Epoch')\n",
        "plt.ylabel('Loss')\n",
        "plt.legend()\n",
        "\n",
        "# Plot training and validation accuracy\n",
        "#plt.subplot(1, 2, 2)\n",
        "#plt.plot(train_auc, label='Training AUC')\n",
        "#plt.plot(val_auc, label='Validation AUC')\n",
        "#plt.title('Training and Validation AUC')\n",
        "#plt.xlabel('Epoch')\n",
        "#plt.ylabel('AUC')\n",
        "#plt.legend()\n",
        "\n",
        "# Show the plots\n",
        "plt.tight_layout()\n",
        "plt.show()\n"
      ],
      "metadata": {
        "execution": {
          "iopub.status.busy": "2024-01-24T13:03:55.22827Z",
          "iopub.execute_input": "2024-01-24T13:03:55.228834Z",
          "iopub.status.idle": "2024-01-24T13:03:55.539371Z",
          "shell.execute_reply.started": "2024-01-24T13:03:55.228789Z",
          "shell.execute_reply": "2024-01-24T13:03:55.538092Z"
        },
        "trusted": true,
        "id": "xmMwV7VOD6ML",
        "outputId": "d5af0c6b-29c6-4b6f-c58b-c8cf4b86bc1b",
        "colab": {
          "base_uri": "https://localhost:8080/",
          "height": 507
        }
      },
      "execution_count": 30,
      "outputs": [
        {
          "output_type": "display_data",
          "data": {
            "text/plain": [
              "<Figure size 1000x500 with 1 Axes>"
            ],
            "image/png": "[encoded data removed]"
          },
          "metadata": {}
        }
      ]
    },
    {
      "cell_type": "code",
      "source": [
        "# Evaluating the model on test dataset\n",
        "test_loss, test_auc = model.evaluate(X_test_list, y_test)\n",
        "print(f'Test AUC: {test_auc}')"
      ],
      "metadata": {
        "execution": {
          "iopub.status.busy": "2024-01-24T13:04:16.192623Z",
          "iopub.execute_input": "2024-01-24T13:04:16.193187Z",
          "iopub.status.idle": "2024-01-24T13:04:19.57744Z",
          "shell.execute_reply.started": "2024-01-24T13:04:16.193131Z",
          "shell.execute_reply": "2024-01-24T13:04:19.576206Z"
        },
        "trusted": true,
        "id": "YD1IWMf5D6MP",
        "outputId": "0d715b36-00ab-435a-c3c7-e1695d231d64",
        "colab": {
          "base_uri": "https://localhost:8080/"
        }
      },
      "execution_count": 31,
      "outputs": [
        {
          "output_type": "stream",
          "name": "stdout",
          "text": [
            "1548/1548 [==============================] - 3s 2ms/step - loss: 0.3327 - auc: 0.8809\n",
            "Test AUC: 0.8809009790420532\n"
          ]
        }
      ]
    },
    {
      "cell_type": "markdown",
      "source": [
        "### Predict testset"
      ],
      "metadata": {
        "id": "k8hRGAeLD6MQ"
      }
    },
    {
      "cell_type": "code",
      "source": [
        "#converting data to list format to match the network structure\n",
        "def preproc(testbanking):\n",
        "\n",
        "    input_list_testbank = []\n",
        "#    input_list_val = []\n",
        "#    input_list_test = []\n",
        "\n",
        "    #the cols to be embedded: rescaling to range [0, # values)\n",
        "    for c in embed_cols:\n",
        "        raw_vals = np.unique(testbanking[c])\n",
        "        val_map = {}\n",
        "        for i in range(len(raw_vals)):\n",
        "            val_map[raw_vals[i]] = i\n",
        "#        input_list_train.append(X_train[c].map(val_map).values)\n",
        "#        input_list_val.append(X_val[c].map(val_map).fillna(0).values)\n",
        "#        input_list_test.append(X_test[c].map(val_map).fillna(0).values)\n",
        "        input_list_testbank.append(testbanking[c].map(val_map).values)\n",
        "    #the rest of the columns\n",
        "#    other_cols = [c for c in X_train.columns if (not c in (myself))]\n",
        "    other_cols = [c for c in testbanking.columns if (not c in (myself))]\n",
        "    input_list_testbank.append(testbanking[other_cols].values)\n",
        "#    input_list_val.append(X_val[other_cols].values)\n",
        "#    input_list_test.append(X_test[other_cols].values)\n",
        "\n",
        "    return input_list_testbank"
      ],
      "metadata": {
        "execution": {
          "iopub.status.busy": "2024-01-24T13:04:53.765011Z",
          "iopub.execute_input": "2024-01-24T13:04:53.765519Z",
          "iopub.status.idle": "2024-01-24T13:04:53.775087Z",
          "shell.execute_reply.started": "2024-01-24T13:04:53.765476Z",
          "shell.execute_reply": "2024-01-24T13:04:53.773628Z"
        },
        "trusted": true,
        "id": "CBUMkcBvD6MR"
      },
      "execution_count": 32,
      "outputs": []
    },
    {
      "cell_type": "code",
      "source": [
        "proc_testbank = preproc(testbanking)"
      ],
      "metadata": {
        "execution": {
          "iopub.status.busy": "2024-01-24T13:06:12.634484Z",
          "iopub.execute_input": "2024-01-24T13:06:12.635156Z",
          "iopub.status.idle": "2024-01-24T13:06:12.991163Z",
          "shell.execute_reply.started": "2024-01-24T13:06:12.635102Z",
          "shell.execute_reply": "2024-01-24T13:06:12.98962Z"
        },
        "trusted": true,
        "id": "ZkWtch4VD6MS"
      },
      "execution_count": 33,
      "outputs": []
    },
    {
      "cell_type": "code",
      "source": [
        "# Predicting the test set data points\n",
        "preds = model.predict(proc_testbank)"
      ],
      "metadata": {
        "execution": {
          "iopub.status.busy": "2024-01-24T13:08:16.082008Z",
          "iopub.execute_input": "2024-01-24T13:08:16.08258Z",
          "iopub.status.idle": "2024-01-24T13:08:23.972902Z",
          "shell.execute_reply.started": "2024-01-24T13:08:16.08251Z",
          "shell.execute_reply": "2024-01-24T13:08:23.971686Z"
        },
        "trusted": true,
        "id": "cxdnPlnWD6MT",
        "outputId": "ea041440-5e6e-4a2d-bd15-5704ba562327",
        "colab": {
          "base_uri": "https://localhost:8080/"
        }
      },
      "execution_count": 34,
      "outputs": [
        {
          "output_type": "stream",
          "name": "stdout",
          "text": [
            "3439/3439 [==============================] - 6s 2ms/step\n"
          ]
        }
      ]
    },
    {
      "cell_type": "code",
      "source": [
        "testbanking_id['Exited'] = preds\n",
        "testbanking_id.head()"
      ],
      "metadata": {
        "execution": {
          "iopub.status.busy": "2024-01-24T13:10:13.5765Z",
          "iopub.execute_input": "2024-01-24T13:10:13.576994Z",
          "iopub.status.idle": "2024-01-24T13:10:13.592174Z",
          "shell.execute_reply.started": "2024-01-24T13:10:13.57696Z",
          "shell.execute_reply": "2024-01-24T13:10:13.590725Z"
        },
        "trusted": true,
        "id": "W8lf1TbxD6MT",
        "outputId": "125af64e-d797-4aa5-dbfa-ddc053611e76",
        "colab": {
          "base_uri": "https://localhost:8080/",
          "height": 206
        }
      },
      "execution_count": 35,
      "outputs": [
        {
          "output_type": "execute_result",
          "data": {
            "text/plain": [
              "       id    Exited\n",
              "0  165034  0.010580\n",
              "1  165035  0.755437\n",
              "2  165036  0.027893\n",
              "3  165037  0.275032\n",
              "4  165038  0.467917"
            ],
            "text/html": [
              "\n",
              "  <div id=\"df-170abca3-468e-4f4e-a7ee-26050ab4c537\" class=\"colab-df-container\">\n",
              "    <div>\n",
              "<style scoped>\n",
              "    .dataframe tbody tr th:only-of-type {\n",
              "        vertical-align: middle;\n",
              "    }\n",
              "\n",
              "    .dataframe tbody tr th {\n",
              "        vertical-align: top;\n",
              "    }\n",
              "\n",
              "    .dataframe thead th {\n",
              "        text-align: right;\n",
              "    }\n",
              "</style>\n",
              "<table border=\"1\" class=\"dataframe\">\n",
              "  <thead>\n",
              "    <tr style=\"text-align: right;\">\n",
              "      <th></th>\n",
              "      <th>id</th>\n",
              "      <th>Exited</th>\n",
              "    </tr>\n",
              "  </thead>\n",
              "  <tbody>\n",
              "    <tr>\n",
              "      <th>0</th>\n",
              "      <td>165034</td>\n",
              "      <td>0.010580</td>\n",
              "    </tr>\n",
              "    <tr>\n",
              "      <th>1</th>\n",
              "      <td>165035</td>\n",
              "      <td>0.755437</td>\n",
              "    </tr>\n",
              "    <tr>\n",
              "      <th>2</th>\n",
              "      <td>165036</td>\n",
              "      <td>0.027893</td>\n",
              "    </tr>\n",
              "    <tr>\n",
              "      <th>3</th>\n",
              "      <td>165037</td>\n",
              "      <td>0.275032</td>\n",
              "    </tr>\n",
              "    <tr>\n",
              "      <th>4</th>\n",
              "      <td>165038</td>\n",
              "      <td>0.467917</td>\n",
              "    </tr>\n",
              "  </tbody>\n",
              "</table>\n",
              "</div>\n",
              "    <div class=\"colab-df-buttons\">\n",
              "\n",
              "  <div class=\"colab-df-container\">\n",
              "    <button class=\"colab-df-convert\" onclick=\"convertToInteractive('df-170abca3-468e-4f4e-a7ee-26050ab4c537')\"\n",
              "            title=\"Convert this dataframe to an interactive table.\"\n",
              "            style=\"display:none;\">\n",
              "\n",
              "  <svg xmlns=\"http://www.w3.org/2000/svg\" height=\"24px\" viewBox=\"0 -960 960 960\">\n",
              "    <path d=\"M120-120v-720h720v720H120Zm60-500h600v-160H180v160Zm220 220h160v-160H400v160Zm0 220h160v-160H400v160ZM180-400h160v-160H180v160Zm440 0h160v-160H620v160ZM180-180h160v-160H180v160Zm440 0h160v-160H620v160Z\"/>\n",
              "  </svg>\n",
              "    </button>\n",
              "\n",
              "  <style>\n",
              "    .colab-df-container {\n",
              "      display:flex;\n",
              "      gap: 12px;\n",
              "    }\n",
              "\n",
              "    .colab-df-convert {\n",
              "      background-color: #E8F0FE;\n",
              "      border: none;\n",
              "      border-radius: 50%;\n",
              "      cursor: pointer;\n",
              "      display: none;\n",
              "      fill: #1967D2;\n",
              "      height: 32px;\n",
              "      padding: 0 0 0 0;\n",
              "      width: 32px;\n",
              "    }\n",
              "\n",
              "    .colab-df-convert:hover {\n",
              "      background-color: #E2EBFA;\n",
              "      box-shadow: 0px 1px 2px rgba(60, 64, 67, 0.3), 0px 1px 3px 1px rgba(60, 64, 67, 0.15);\n",
              "      fill: #174EA6;\n",
              "    }\n",
              "\n",
              "    .colab-df-buttons div {\n",
              "      margin-bottom: 4px;\n",
              "    }\n",
              "\n",
              "    [theme=dark] .colab-df-convert {\n",
              "      background-color: #3B4455;\n",
              "      fill: #D2E3FC;\n",
              "    }\n",
              "\n",
              "    [theme=dark] .colab-df-convert:hover {\n",
              "      background-color: #434B5C;\n",
              "      box-shadow: 0px 1px 3px 1px rgba(0, 0, 0, 0.15);\n",
              "      filter: drop-shadow(0px 1px 2px rgba(0, 0, 0, 0.3));\n",
              "      fill: #FFFFFF;\n",
              "    }\n",
              "  </style>\n",
              "\n",
              "    <script>\n",
              "      const buttonEl =\n",
              "        document.querySelector('#df-170abca3-468e-4f4e-a7ee-26050ab4c537 button.colab-df-convert');\n",
              "      buttonEl.style.display =\n",
              "        google.colab.kernel.accessAllowed ? 'block' : 'none';\n",
              "\n",
              "      async function convertToInteractive(key) {\n",
              "        const element = document.querySelector('#df-170abca3-468e-4f4e-a7ee-26050ab4c537');\n",
              "        const dataTable =\n",
              "          await google.colab.kernel.invokeFunction('convertToInteractive',\n",
              "                                                    [key], {});\n",
              "        if (!dataTable) return;\n",
              "\n",
              "        const docLinkHtml = 'Like what you see? Visit the ' +\n",
              "          '<a target=\"_blank\" href=https://colab.research.google.com/notebooks/data_table.ipynb>data table notebook</a>'\n",
              "          + ' to learn more about interactive tables.';\n",
              "        element.innerHTML = '';\n",
              "        dataTable['output_type'] = 'display_data';\n",
              "        await google.colab.output.renderOutput(dataTable, element);\n",
              "        const docLink = document.createElement('div');\n",
              "        docLink.innerHTML = docLinkHtml;\n",
              "        element.appendChild(docLink);\n",
              "      }\n",
              "    </script>\n",
              "  </div>\n",
              "\n",
              "\n",
              "<div id=\"df-1d7024e2-7232-414e-b43f-e7d199ab2531\">\n",
              "  <button class=\"colab-df-quickchart\" onclick=\"quickchart('df-1d7024e2-7232-414e-b43f-e7d199ab2531')\"\n",
              "            title=\"Suggest charts\"\n",
              "            style=\"display:none;\">\n",
              "\n",
              "<svg xmlns=\"http://www.w3.org/2000/svg\" height=\"24px\"viewBox=\"0 0 24 24\"\n",
              "     width=\"24px\">\n",
              "    <g>\n",
              "        <path d=\"M19 3H5c-1.1 0-2 .9-2 2v14c0 1.1.9 2 2 2h14c1.1 0 2-.9 2-2V5c0-1.1-.9-2-2-2zM9 17H7v-7h2v7zm4 0h-2V7h2v10zm4 0h-2v-4h2v4z\"/>\n",
              "    </g>\n",
              "</svg>\n",
              "  </button>\n",
              "\n",
              "<style>\n",
              "  .colab-df-quickchart {\n",
              "      --bg-color: #E8F0FE;\n",
              "      --fill-color: #1967D2;\n",
              "      --hover-bg-color: #E2EBFA;\n",
              "      --hover-fill-color: #174EA6;\n",
              "      --disabled-fill-color: #AAA;\n",
              "      --disabled-bg-color: #DDD;\n",
              "  }\n",
              "\n",
              "  [theme=dark] .colab-df-quickchart {\n",
              "      --bg-color: #3B4455;\n",
              "      --fill-color: #D2E3FC;\n",
              "      --hover-bg-color: #434B5C;\n",
              "      --hover-fill-color: #FFFFFF;\n",
              "      --disabled-bg-color: #3B4455;\n",
              "      --disabled-fill-color: #666;\n",
              "  }\n",
              "\n",
              "  .colab-df-quickchart {\n",
              "    background-color: var(--bg-color);\n",
              "    border: none;\n",
              "    border-radius: 50%;\n",
              "    cursor: pointer;\n",
              "    display: none;\n",
              "    fill: var(--fill-color);\n",
              "    height: 32px;\n",
              "    padding: 0;\n",
              "    width: 32px;\n",
              "  }\n",
              "\n",
              "  .colab-df-quickchart:hover {\n",
              "    background-color: var(--hover-bg-color);\n",
              "    box-shadow: 0 1px 2px rgba(60, 64, 67, 0.3), 0 1px 3px 1px rgba(60, 64, 67, 0.15);\n",
              "    fill: var(--button-hover-fill-color);\n",
              "  }\n",
              "\n",
              "  .colab-df-quickchart-complete:disabled,\n",
              "  .colab-df-quickchart-complete:disabled:hover {\n",
              "    background-color: var(--disabled-bg-color);\n",
              "    fill: var(--disabled-fill-color);\n",
              "    box-shadow: none;\n",
              "  }\n",
              "\n",
              "  .colab-df-spinner {\n",
              "    border: 2px solid var(--fill-color);\n",
              "    border-color: transparent;\n",
              "    border-bottom-color: var(--fill-color);\n",
              "    animation:\n",
              "      spin 1s steps(1) infinite;\n",
              "  }\n",
              "\n",
              "  @keyframes spin {\n",
              "    0% {\n",
              "      border-color: transparent;\n",
              "      border-bottom-color: var(--fill-color);\n",
              "      border-left-color: var(--fill-color);\n",
              "    }\n",
              "    20% {\n",
              "      border-color: transparent;\n",
              "      border-left-color: var(--fill-color);\n",
              "      border-top-color: var(--fill-color);\n",
              "    }\n",
              "    30% {\n",
              "      border-color: transparent;\n",
              "      border-left-color: var(--fill-color);\n",
              "      border-top-color: var(--fill-color);\n",
              "      border-right-color: var(--fill-color);\n",
              "    }\n",
              "    40% {\n",
              "      border-color: transparent;\n",
              "      border-right-color: var(--fill-color);\n",
              "      border-top-color: var(--fill-color);\n",
              "    }\n",
              "    60% {\n",
              "      border-color: transparent;\n",
              "      border-right-color: var(--fill-color);\n",
              "    }\n",
              "    80% {\n",
              "      border-color: transparent;\n",
              "      border-right-color: var(--fill-color);\n",
              "      border-bottom-color: var(--fill-color);\n",
              "    }\n",
              "    90% {\n",
              "      border-color: transparent;\n",
              "      border-bottom-color: var(--fill-color);\n",
              "    }\n",
              "  }\n",
              "</style>\n",
              "\n",
              "  <script>\n",
              "    async function quickchart(key) {\n",
              "      const quickchartButtonEl =\n",
              "        document.querySelector('#' + key + ' button');\n",
              "      quickchartButtonEl.disabled = true;  // To prevent multiple clicks.\n",
              "      quickchartButtonEl.classList.add('colab-df-spinner');\n",
              "      try {\n",
              "        const charts = await google.colab.kernel.invokeFunction(\n",
              "            'suggestCharts', [key], {});\n",
              "      } catch (error) {\n",
              "        console.error('Error during call to suggestCharts:', error);\n",
              "      }\n",
              "      quickchartButtonEl.classList.remove('colab-df-spinner');\n",
              "      quickchartButtonEl.classList.add('colab-df-quickchart-complete');\n",
              "    }\n",
              "    (() => {\n",
              "      let quickchartButtonEl =\n",
              "        document.querySelector('#df-1d7024e2-7232-414e-b43f-e7d199ab2531 button');\n",
              "      quickchartButtonEl.style.display =\n",
              "        google.colab.kernel.accessAllowed ? 'block' : 'none';\n",
              "    })();\n",
              "  </script>\n",
              "</div>\n",
              "\n",
              "    </div>\n",
              "  </div>\n"
            ],
            "application/vnd.google.colaboratory.intrinsic+json": {
              "type": "dataframe",
              "variable_name": "testbanking_id"
            }
          },
          "metadata": {},
          "execution_count": 35
        }
      ]
    },
    {
      "cell_type": "code",
      "source": [
        "# Saving final outcome file\n",
        "testbanking_id.to_csv(\"submission.csv\", index = False)"
      ],
      "metadata": {
        "execution": {
          "iopub.status.busy": "2024-01-24T13:10:46.510615Z",
          "iopub.execute_input": "2024-01-24T13:10:46.511097Z",
          "iopub.status.idle": "2024-01-24T13:10:46.764358Z",
          "shell.execute_reply.started": "2024-01-24T13:10:46.511062Z",
          "shell.execute_reply": "2024-01-24T13:10:46.762927Z"
        },
        "trusted": true,
        "id": "u2Kn3b15D6MV"
      },
      "execution_count": 36,
      "outputs": []
    },
    {
      "cell_type": "markdown",
      "source": [
        "### Reference\n",
        "\n",
        "https://www.kaggle.com/code/vaibhavbawej07/neural-networks-binaryclassification-accuracy-88-2"
      ],
      "metadata": {
        "id": "PctHxTFTD6Ml"
      }
    }
  ]
}